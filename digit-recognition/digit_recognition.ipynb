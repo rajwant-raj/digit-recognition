{
  "nbformat": 4,
  "nbformat_minor": 0,
  "metadata": {
    "colab": {
      "provenance": []
    },
    "kernelspec": {
      "name": "python3",
      "display_name": "Python 3"
    },
    "language_info": {
      "name": "python"
    }
  },
  "cells": [
    {
      "cell_type": "code",
      "source": [
        "import pandas as pd\n",
        "import numpy as np\n",
        "\n",
        "np.random.seed(1212)\n",
        "\n",
        "import keras\n",
        "from keras.models import Model\n",
        "from keras.layers import *\n",
        "from keras import optimizers"
      ],
      "metadata": {
        "id": "l0P4yb4KRbe6"
      },
      "execution_count": 20,
      "outputs": []
    },
    {
      "cell_type": "code",
      "source": [
        "df_train = pd.read_csv('/content/train.csv')\n",
        "df_test = pd.read_csv('/content/test.csv')"
      ],
      "metadata": {
        "id": "eJZHaTO8SOrK"
      },
      "execution_count": 21,
      "outputs": []
    },
    {
      "outputs": [
        {
          "output_type": "execute_result",
          "data": {
            "text/plain": [
              "   label  pixel0  pixel1  pixel2  pixel3  pixel4  pixel5  pixel6  pixel7  \\\n",
              "0      1       0       0       0       0       0       0       0       0   \n",
              "1      0       0       0       0       0       0       0       0       0   \n",
              "2      1       0       0       0       0       0       0       0       0   \n",
              "3      4       0       0       0       0       0       0       0       0   \n",
              "4      0       0       0       0       0       0       0       0       0   \n",
              "\n",
              "   pixel8  ...  pixel774  pixel775  pixel776  pixel777  pixel778  pixel779  \\\n",
              "0       0  ...         0         0         0         0         0         0   \n",
              "1       0  ...         0         0         0         0         0         0   \n",
              "2       0  ...         0         0         0         0         0         0   \n",
              "3       0  ...         0         0         0         0         0         0   \n",
              "4       0  ...         0         0         0         0         0         0   \n",
              "\n",
              "   pixel780  pixel781  pixel782  pixel783  \n",
              "0         0         0         0         0  \n",
              "1         0         0         0         0  \n",
              "2         0         0         0         0  \n",
              "3         0         0         0         0  \n",
              "4         0         0         0         0  \n",
              "\n",
              "[5 rows x 785 columns]"
            ],
            "text/html": [
              "\n",
              "  <div id=\"df-a949744d-c327-46e9-9450-1f580ee113f7\" class=\"colab-df-container\">\n",
              "    <div>\n",
              "<style scoped>\n",
              "    .dataframe tbody tr th:only-of-type {\n",
              "        vertical-align: middle;\n",
              "    }\n",
              "\n",
              "    .dataframe tbody tr th {\n",
              "        vertical-align: top;\n",
              "    }\n",
              "\n",
              "    .dataframe thead th {\n",
              "        text-align: right;\n",
              "    }\n",
              "</style>\n",
              "<table border=\"1\" class=\"dataframe\">\n",
              "  <thead>\n",
              "    <tr style=\"text-align: right;\">\n",
              "      <th></th>\n",
              "      <th>label</th>\n",
              "      <th>pixel0</th>\n",
              "      <th>pixel1</th>\n",
              "      <th>pixel2</th>\n",
              "      <th>pixel3</th>\n",
              "      <th>pixel4</th>\n",
              "      <th>pixel5</th>\n",
              "      <th>pixel6</th>\n",
              "      <th>pixel7</th>\n",
              "      <th>pixel8</th>\n",
              "      <th>...</th>\n",
              "      <th>pixel774</th>\n",
              "      <th>pixel775</th>\n",
              "      <th>pixel776</th>\n",
              "      <th>pixel777</th>\n",
              "      <th>pixel778</th>\n",
              "      <th>pixel779</th>\n",
              "      <th>pixel780</th>\n",
              "      <th>pixel781</th>\n",
              "      <th>pixel782</th>\n",
              "      <th>pixel783</th>\n",
              "    </tr>\n",
              "  </thead>\n",
              "  <tbody>\n",
              "    <tr>\n",
              "      <th>0</th>\n",
              "      <td>1</td>\n",
              "      <td>0</td>\n",
              "      <td>0</td>\n",
              "      <td>0</td>\n",
              "      <td>0</td>\n",
              "      <td>0</td>\n",
              "      <td>0</td>\n",
              "      <td>0</td>\n",
              "      <td>0</td>\n",
              "      <td>0</td>\n",
              "      <td>...</td>\n",
              "      <td>0</td>\n",
              "      <td>0</td>\n",
              "      <td>0</td>\n",
              "      <td>0</td>\n",
              "      <td>0</td>\n",
              "      <td>0</td>\n",
              "      <td>0</td>\n",
              "      <td>0</td>\n",
              "      <td>0</td>\n",
              "      <td>0</td>\n",
              "    </tr>\n",
              "    <tr>\n",
              "      <th>1</th>\n",
              "      <td>0</td>\n",
              "      <td>0</td>\n",
              "      <td>0</td>\n",
              "      <td>0</td>\n",
              "      <td>0</td>\n",
              "      <td>0</td>\n",
              "      <td>0</td>\n",
              "      <td>0</td>\n",
              "      <td>0</td>\n",
              "      <td>0</td>\n",
              "      <td>...</td>\n",
              "      <td>0</td>\n",
              "      <td>0</td>\n",
              "      <td>0</td>\n",
              "      <td>0</td>\n",
              "      <td>0</td>\n",
              "      <td>0</td>\n",
              "      <td>0</td>\n",
              "      <td>0</td>\n",
              "      <td>0</td>\n",
              "      <td>0</td>\n",
              "    </tr>\n",
              "    <tr>\n",
              "      <th>2</th>\n",
              "      <td>1</td>\n",
              "      <td>0</td>\n",
              "      <td>0</td>\n",
              "      <td>0</td>\n",
              "      <td>0</td>\n",
              "      <td>0</td>\n",
              "      <td>0</td>\n",
              "      <td>0</td>\n",
              "      <td>0</td>\n",
              "      <td>0</td>\n",
              "      <td>...</td>\n",
              "      <td>0</td>\n",
              "      <td>0</td>\n",
              "      <td>0</td>\n",
              "      <td>0</td>\n",
              "      <td>0</td>\n",
              "      <td>0</td>\n",
              "      <td>0</td>\n",
              "      <td>0</td>\n",
              "      <td>0</td>\n",
              "      <td>0</td>\n",
              "    </tr>\n",
              "    <tr>\n",
              "      <th>3</th>\n",
              "      <td>4</td>\n",
              "      <td>0</td>\n",
              "      <td>0</td>\n",
              "      <td>0</td>\n",
              "      <td>0</td>\n",
              "      <td>0</td>\n",
              "      <td>0</td>\n",
              "      <td>0</td>\n",
              "      <td>0</td>\n",
              "      <td>0</td>\n",
              "      <td>...</td>\n",
              "      <td>0</td>\n",
              "      <td>0</td>\n",
              "      <td>0</td>\n",
              "      <td>0</td>\n",
              "      <td>0</td>\n",
              "      <td>0</td>\n",
              "      <td>0</td>\n",
              "      <td>0</td>\n",
              "      <td>0</td>\n",
              "      <td>0</td>\n",
              "    </tr>\n",
              "    <tr>\n",
              "      <th>4</th>\n",
              "      <td>0</td>\n",
              "      <td>0</td>\n",
              "      <td>0</td>\n",
              "      <td>0</td>\n",
              "      <td>0</td>\n",
              "      <td>0</td>\n",
              "      <td>0</td>\n",
              "      <td>0</td>\n",
              "      <td>0</td>\n",
              "      <td>0</td>\n",
              "      <td>...</td>\n",
              "      <td>0</td>\n",
              "      <td>0</td>\n",
              "      <td>0</td>\n",
              "      <td>0</td>\n",
              "      <td>0</td>\n",
              "      <td>0</td>\n",
              "      <td>0</td>\n",
              "      <td>0</td>\n",
              "      <td>0</td>\n",
              "      <td>0</td>\n",
              "    </tr>\n",
              "  </tbody>\n",
              "</table>\n",
              "<p>5 rows × 785 columns</p>\n",
              "</div>\n",
              "    <div class=\"colab-df-buttons\">\n",
              "\n",
              "  <div class=\"colab-df-container\">\n",
              "    <button class=\"colab-df-convert\" onclick=\"convertToInteractive('df-a949744d-c327-46e9-9450-1f580ee113f7')\"\n",
              "            title=\"Convert this dataframe to an interactive table.\"\n",
              "            style=\"display:none;\">\n",
              "\n",
              "  <svg xmlns=\"http://www.w3.org/2000/svg\" height=\"24px\" viewBox=\"0 -960 960 960\">\n",
              "    <path d=\"M120-120v-720h720v720H120Zm60-500h600v-160H180v160Zm220 220h160v-160H400v160Zm0 220h160v-160H400v160ZM180-400h160v-160H180v160Zm440 0h160v-160H620v160ZM180-180h160v-160H180v160Zm440 0h160v-160H620v160Z\"/>\n",
              "  </svg>\n",
              "    </button>\n",
              "\n",
              "  <style>\n",
              "    .colab-df-container {\n",
              "      display:flex;\n",
              "      gap: 12px;\n",
              "    }\n",
              "\n",
              "    .colab-df-convert {\n",
              "      background-color: #E8F0FE;\n",
              "      border: none;\n",
              "      border-radius: 50%;\n",
              "      cursor: pointer;\n",
              "      display: none;\n",
              "      fill: #1967D2;\n",
              "      height: 32px;\n",
              "      padding: 0 0 0 0;\n",
              "      width: 32px;\n",
              "    }\n",
              "\n",
              "    .colab-df-convert:hover {\n",
              "      background-color: #E2EBFA;\n",
              "      box-shadow: 0px 1px 2px rgba(60, 64, 67, 0.3), 0px 1px 3px 1px rgba(60, 64, 67, 0.15);\n",
              "      fill: #174EA6;\n",
              "    }\n",
              "\n",
              "    .colab-df-buttons div {\n",
              "      margin-bottom: 4px;\n",
              "    }\n",
              "\n",
              "    [theme=dark] .colab-df-convert {\n",
              "      background-color: #3B4455;\n",
              "      fill: #D2E3FC;\n",
              "    }\n",
              "\n",
              "    [theme=dark] .colab-df-convert:hover {\n",
              "      background-color: #434B5C;\n",
              "      box-shadow: 0px 1px 3px 1px rgba(0, 0, 0, 0.15);\n",
              "      filter: drop-shadow(0px 1px 2px rgba(0, 0, 0, 0.3));\n",
              "      fill: #FFFFFF;\n",
              "    }\n",
              "  </style>\n",
              "\n",
              "    <script>\n",
              "      const buttonEl =\n",
              "        document.querySelector('#df-a949744d-c327-46e9-9450-1f580ee113f7 button.colab-df-convert');\n",
              "      buttonEl.style.display =\n",
              "        google.colab.kernel.accessAllowed ? 'block' : 'none';\n",
              "\n",
              "      async function convertToInteractive(key) {\n",
              "        const element = document.querySelector('#df-a949744d-c327-46e9-9450-1f580ee113f7');\n",
              "        const dataTable =\n",
              "          await google.colab.kernel.invokeFunction('convertToInteractive',\n",
              "                                                    [key], {});\n",
              "        if (!dataTable) return;\n",
              "\n",
              "        const docLinkHtml = 'Like what you see? Visit the ' +\n",
              "          '<a target=\"_blank\" href=https://colab.research.google.com/notebooks/data_table.ipynb>data table notebook</a>'\n",
              "          + ' to learn more about interactive tables.';\n",
              "        element.innerHTML = '';\n",
              "        dataTable['output_type'] = 'display_data';\n",
              "        await google.colab.output.renderOutput(dataTable, element);\n",
              "        const docLink = document.createElement('div');\n",
              "        docLink.innerHTML = docLinkHtml;\n",
              "        element.appendChild(docLink);\n",
              "      }\n",
              "    </script>\n",
              "  </div>\n",
              "\n",
              "\n",
              "    <div id=\"df-11b58007-6493-45e7-b3bf-79776a265830\">\n",
              "      <button class=\"colab-df-quickchart\" onclick=\"quickchart('df-11b58007-6493-45e7-b3bf-79776a265830')\"\n",
              "                title=\"Suggest charts\"\n",
              "                style=\"display:none;\">\n",
              "\n",
              "<svg xmlns=\"http://www.w3.org/2000/svg\" height=\"24px\"viewBox=\"0 0 24 24\"\n",
              "     width=\"24px\">\n",
              "    <g>\n",
              "        <path d=\"M19 3H5c-1.1 0-2 .9-2 2v14c0 1.1.9 2 2 2h14c1.1 0 2-.9 2-2V5c0-1.1-.9-2-2-2zM9 17H7v-7h2v7zm4 0h-2V7h2v10zm4 0h-2v-4h2v4z\"/>\n",
              "    </g>\n",
              "</svg>\n",
              "      </button>\n",
              "\n",
              "<style>\n",
              "  .colab-df-quickchart {\n",
              "      --bg-color: #E8F0FE;\n",
              "      --fill-color: #1967D2;\n",
              "      --hover-bg-color: #E2EBFA;\n",
              "      --hover-fill-color: #174EA6;\n",
              "      --disabled-fill-color: #AAA;\n",
              "      --disabled-bg-color: #DDD;\n",
              "  }\n",
              "\n",
              "  [theme=dark] .colab-df-quickchart {\n",
              "      --bg-color: #3B4455;\n",
              "      --fill-color: #D2E3FC;\n",
              "      --hover-bg-color: #434B5C;\n",
              "      --hover-fill-color: #FFFFFF;\n",
              "      --disabled-bg-color: #3B4455;\n",
              "      --disabled-fill-color: #666;\n",
              "  }\n",
              "\n",
              "  .colab-df-quickchart {\n",
              "    background-color: var(--bg-color);\n",
              "    border: none;\n",
              "    border-radius: 50%;\n",
              "    cursor: pointer;\n",
              "    display: none;\n",
              "    fill: var(--fill-color);\n",
              "    height: 32px;\n",
              "    padding: 0;\n",
              "    width: 32px;\n",
              "  }\n",
              "\n",
              "  .colab-df-quickchart:hover {\n",
              "    background-color: var(--hover-bg-color);\n",
              "    box-shadow: 0 1px 2px rgba(60, 64, 67, 0.3), 0 1px 3px 1px rgba(60, 64, 67, 0.15);\n",
              "    fill: var(--button-hover-fill-color);\n",
              "  }\n",
              "\n",
              "  .colab-df-quickchart-complete:disabled,\n",
              "  .colab-df-quickchart-complete:disabled:hover {\n",
              "    background-color: var(--disabled-bg-color);\n",
              "    fill: var(--disabled-fill-color);\n",
              "    box-shadow: none;\n",
              "  }\n",
              "\n",
              "  .colab-df-spinner {\n",
              "    border: 2px solid var(--fill-color);\n",
              "    border-color: transparent;\n",
              "    border-bottom-color: var(--fill-color);\n",
              "    animation:\n",
              "      spin 1s steps(1) infinite;\n",
              "  }\n",
              "\n",
              "  @keyframes spin {\n",
              "    0% {\n",
              "      border-color: transparent;\n",
              "      border-bottom-color: var(--fill-color);\n",
              "      border-left-color: var(--fill-color);\n",
              "    }\n",
              "    20% {\n",
              "      border-color: transparent;\n",
              "      border-left-color: var(--fill-color);\n",
              "      border-top-color: var(--fill-color);\n",
              "    }\n",
              "    30% {\n",
              "      border-color: transparent;\n",
              "      border-left-color: var(--fill-color);\n",
              "      border-top-color: var(--fill-color);\n",
              "      border-right-color: var(--fill-color);\n",
              "    }\n",
              "    40% {\n",
              "      border-color: transparent;\n",
              "      border-right-color: var(--fill-color);\n",
              "      border-top-color: var(--fill-color);\n",
              "    }\n",
              "    60% {\n",
              "      border-color: transparent;\n",
              "      border-right-color: var(--fill-color);\n",
              "    }\n",
              "    80% {\n",
              "      border-color: transparent;\n",
              "      border-right-color: var(--fill-color);\n",
              "      border-bottom-color: var(--fill-color);\n",
              "    }\n",
              "    90% {\n",
              "      border-color: transparent;\n",
              "      border-bottom-color: var(--fill-color);\n",
              "    }\n",
              "  }\n",
              "</style>\n",
              "\n",
              "      <script>\n",
              "        async function quickchart(key) {\n",
              "          const quickchartButtonEl =\n",
              "            document.querySelector('#' + key + ' button');\n",
              "          quickchartButtonEl.disabled = true;  // To prevent multiple clicks.\n",
              "          quickchartButtonEl.classList.add('colab-df-spinner');\n",
              "          try {\n",
              "            const charts = await google.colab.kernel.invokeFunction(\n",
              "                'suggestCharts', [key], {});\n",
              "          } catch (error) {\n",
              "            console.error('Error during call to suggestCharts:', error);\n",
              "          }\n",
              "          quickchartButtonEl.classList.remove('colab-df-spinner');\n",
              "          quickchartButtonEl.classList.add('colab-df-quickchart-complete');\n",
              "        }\n",
              "        (() => {\n",
              "          let quickchartButtonEl =\n",
              "            document.querySelector('#df-11b58007-6493-45e7-b3bf-79776a265830 button');\n",
              "          quickchartButtonEl.style.display =\n",
              "            google.colab.kernel.accessAllowed ? 'block' : 'none';\n",
              "        })();\n",
              "      </script>\n",
              "    </div>\n",
              "\n",
              "    </div>\n",
              "  </div>\n"
            ],
            "application/vnd.google.colaboratory.intrinsic+json": {
              "type": "dataframe",
              "variable_name": "df_train"
            }
          },
          "metadata": {},
          "execution_count": 22
        }
      ],
      "metadata": {
        "_cell_guid": "dfae6a31-23ea-4d88-9fcd-06b8b705b614",
        "_uuid": "0f7bfb5923e5b4ed5a5149c007a2cd39cb9b8282",
        "_execution_state": "busy",
        "trusted": false,
        "id": "_KmTUHb7SAYf",
        "colab": {
          "base_uri": "https://localhost:8080/",
          "height": 256
        },
        "outputId": "ee4323e7-49fc-4755-9049-add5944f4378"
      },
      "cell_type": "code",
      "execution_count": 22,
      "source": [
        "df_train.head()"
      ]
    },
    {
      "outputs": [
        {
          "output_type": "stream",
          "name": "stdout",
          "text": [
            "(28000, 784)\n"
          ]
        }
      ],
      "metadata": {
        "_cell_guid": "bb78680a-ce50-4ee9-a77f-265b9ee38aee",
        "_uuid": "16e39b5512ed29c8f9d7db51331693e4689ce306",
        "_execution_state": "busy",
        "trusted": false,
        "id": "8t-JBSrsSAYg",
        "colab": {
          "base_uri": "https://localhost:8080/"
        },
        "outputId": "f4bb5c25-5161-48fa-b8e6-46e6574a74b1"
      },
      "cell_type": "code",
      "execution_count": 23,
      "source": [
        "df_features = df_train.iloc[:, 1:785]\n",
        "df_label = df_train.iloc[:, 0]\n",
        "\n",
        "X_test = df_test.iloc[:, 0:784]\n",
        "\n",
        "print(X_test.shape)"
      ]
    },
    {
      "outputs": [],
      "metadata": {
        "_cell_guid": "a3fb0b37-1edf-42bd-b951-86f254b78fc1",
        "_uuid": "a98808f6188e9c44741ad2b5c25a894106406dfc",
        "_execution_state": "busy",
        "trusted": false,
        "id": "YeTz9sDASAYh"
      },
      "cell_type": "code",
      "execution_count": 24,
      "source": [
        "from sklearn.model_selection import train_test_split\n",
        "X_train, X_cv, y_train, y_cv = train_test_split(df_features, df_label,\n",
        "                                                test_size = 0.2,\n",
        "                                                random_state = 1212)\n",
        "\n",
        "X_train = X_train.values.reshape(33600, 784) #(33600, 784)\n",
        "X_cv = X_cv.values.reshape(8400, 784) #(8400, 784)\n",
        "\n",
        "X_test = X_test.values.reshape(28000, 784)"
      ]
    },
    {
      "outputs": [
        {
          "output_type": "stream",
          "name": "stdout",
          "text": [
            "(np.int64(0), np.int64(255))\n"
          ]
        }
      ],
      "metadata": {
        "_cell_guid": "4d0e07b5-28dd-42f1-b425-6414aea90cde",
        "_uuid": "cc2daf9f099fb62e3b470f913349428ef396b75b",
        "_execution_state": "busy",
        "trusted": false,
        "id": "M644N2sGSAYi",
        "colab": {
          "base_uri": "https://localhost:8080/"
        },
        "outputId": "bbfebb1d-aecd-491a-c058-ea946ddf3349"
      },
      "cell_type": "code",
      "execution_count": 25,
      "source": [
        "print((min(X_train[1]), max(X_train[1])))"
      ]
    },
    {
      "outputs": [],
      "metadata": {
        "_cell_guid": "e9f8eaa0-c77e-4510-9ff1-bb56e1d5f76d",
        "_uuid": "c24261ffd2384078a836a909ea4839a31d51dd66",
        "_execution_state": "busy",
        "trusted": false,
        "id": "v2In3WrwSAYi"
      },
      "cell_type": "code",
      "execution_count": 26,
      "source": [
        "X_train = X_train.astype('float32'); X_cv= X_cv.astype('float32'); X_test = X_test.astype('float32')\n",
        "X_train /= 255; X_cv /= 255; X_test /= 255\n",
        "\n",
        "num_digits = 10\n",
        "y_train = keras.utils.to_categorical(y_train, num_digits)\n",
        "y_cv = keras.utils.to_categorical(y_cv, num_digits)"
      ]
    },
    {
      "outputs": [
        {
          "output_type": "stream",
          "name": "stdout",
          "text": [
            "[0. 0. 1. 0. 0. 0. 0. 0. 0. 0.]\n",
            "[0. 0. 0. 0. 0. 0. 0. 1. 0. 0.]\n"
          ]
        }
      ],
      "metadata": {
        "_cell_guid": "6667ca35-44ff-43f3-b88b-27b787be4ee0",
        "_uuid": "3fdf37a538504f4e5288cbb8b70a719c2689caca",
        "_execution_state": "busy",
        "trusted": false,
        "id": "RP3unNwGSAYj",
        "colab": {
          "base_uri": "https://localhost:8080/"
        },
        "outputId": "0494709a-069a-4eba-82a4-ad3bd7070b8c"
      },
      "cell_type": "code",
      "execution_count": 27,
      "source": [
        "print(y_train[0]) # 2\n",
        "print(y_train[3]) # 7"
      ]
    },
    {
      "outputs": [],
      "metadata": {
        "_cell_guid": "be9af3d4-ddac-4f85-945f-bd1cdf09fc15",
        "_uuid": "b88da407b6dab83e54b5380e0e62459577949932",
        "_execution_state": "busy",
        "trusted": false,
        "id": "ZPoaVG7rSAYj"
      },
      "cell_type": "code",
      "execution_count": 28,
      "source": [
        "# Input Parameters\n",
        "n_input = 784 # number of features\n",
        "n_hidden_1 = 300\n",
        "n_hidden_2 = 100\n",
        "n_hidden_3 = 100\n",
        "n_hidden_4 = 200\n",
        "num_digits = 10"
      ]
    },
    {
      "outputs": [],
      "metadata": {
        "_cell_guid": "74eac473-a6cb-4356-a982-ef3cb6c971de",
        "_uuid": "f97a558010d88407363bbb08fa00e7c87a3d6ceb",
        "_execution_state": "busy",
        "trusted": false,
        "id": "cBLbJP3ISAYk"
      },
      "cell_type": "code",
      "execution_count": 29,
      "source": [
        "Inp = Input(shape=(784,))\n",
        "x = Dense(n_hidden_1, activation='relu', name = \"Hidden_Layer_1\")(Inp)\n",
        "x = Dense(n_hidden_2, activation='relu', name = \"Hidden_Layer_2\")(x)\n",
        "x = Dense(n_hidden_3, activation='relu', name = \"Hidden_Layer_3\")(x)\n",
        "x = Dense(n_hidden_4, activation='relu', name = \"Hidden_Layer_4\")(x)\n",
        "output = Dense(num_digits, activation='softmax', name = \"Output_Layer\")(x)"
      ]
    },
    {
      "outputs": [
        {
          "output_type": "display_data",
          "data": {
            "text/plain": [
              "\u001b[1mModel: \"functional_1\"\u001b[0m\n"
            ],
            "text/html": [
              "<pre style=\"white-space:pre;overflow-x:auto;line-height:normal;font-family:Menlo,'DejaVu Sans Mono',consolas,'Courier New',monospace\"><span style=\"font-weight: bold\">Model: \"functional_1\"</span>\n",
              "</pre>\n"
            ]
          },
          "metadata": {}
        },
        {
          "output_type": "display_data",
          "data": {
            "text/plain": [
              "┏━━━━━━━━━━━━━━━━━━━━━━━━━━━━━━━━━┳━━━━━━━━━━━━━━━━━━━━━━━━┳━━━━━━━━━━━━━━━┓\n",
              "┃\u001b[1m \u001b[0m\u001b[1mLayer (type)                   \u001b[0m\u001b[1m \u001b[0m┃\u001b[1m \u001b[0m\u001b[1mOutput Shape          \u001b[0m\u001b[1m \u001b[0m┃\u001b[1m \u001b[0m\u001b[1m      Param #\u001b[0m\u001b[1m \u001b[0m┃\n",
              "┡━━━━━━━━━━━━━━━━━━━━━━━━━━━━━━━━━╇━━━━━━━━━━━━━━━━━━━━━━━━╇━━━━━━━━━━━━━━━┩\n",
              "│ input_layer_1 (\u001b[38;5;33mInputLayer\u001b[0m)      │ (\u001b[38;5;45mNone\u001b[0m, \u001b[38;5;34m784\u001b[0m)            │             \u001b[38;5;34m0\u001b[0m │\n",
              "├─────────────────────────────────┼────────────────────────┼───────────────┤\n",
              "│ Hidden_Layer_1 (\u001b[38;5;33mDense\u001b[0m)          │ (\u001b[38;5;45mNone\u001b[0m, \u001b[38;5;34m300\u001b[0m)            │       \u001b[38;5;34m235,500\u001b[0m │\n",
              "├─────────────────────────────────┼────────────────────────┼───────────────┤\n",
              "│ Hidden_Layer_2 (\u001b[38;5;33mDense\u001b[0m)          │ (\u001b[38;5;45mNone\u001b[0m, \u001b[38;5;34m100\u001b[0m)            │        \u001b[38;5;34m30,100\u001b[0m │\n",
              "├─────────────────────────────────┼────────────────────────┼───────────────┤\n",
              "│ Hidden_Layer_3 (\u001b[38;5;33mDense\u001b[0m)          │ (\u001b[38;5;45mNone\u001b[0m, \u001b[38;5;34m100\u001b[0m)            │        \u001b[38;5;34m10,100\u001b[0m │\n",
              "├─────────────────────────────────┼────────────────────────┼───────────────┤\n",
              "│ Hidden_Layer_4 (\u001b[38;5;33mDense\u001b[0m)          │ (\u001b[38;5;45mNone\u001b[0m, \u001b[38;5;34m200\u001b[0m)            │        \u001b[38;5;34m20,200\u001b[0m │\n",
              "├─────────────────────────────────┼────────────────────────┼───────────────┤\n",
              "│ Output_Layer (\u001b[38;5;33mDense\u001b[0m)            │ (\u001b[38;5;45mNone\u001b[0m, \u001b[38;5;34m10\u001b[0m)             │         \u001b[38;5;34m2,010\u001b[0m │\n",
              "└─────────────────────────────────┴────────────────────────┴───────────────┘\n"
            ],
            "text/html": [
              "<pre style=\"white-space:pre;overflow-x:auto;line-height:normal;font-family:Menlo,'DejaVu Sans Mono',consolas,'Courier New',monospace\">┏━━━━━━━━━━━━━━━━━━━━━━━━━━━━━━━━━┳━━━━━━━━━━━━━━━━━━━━━━━━┳━━━━━━━━━━━━━━━┓\n",
              "┃<span style=\"font-weight: bold\"> Layer (type)                    </span>┃<span style=\"font-weight: bold\"> Output Shape           </span>┃<span style=\"font-weight: bold\">       Param # </span>┃\n",
              "┡━━━━━━━━━━━━━━━━━━━━━━━━━━━━━━━━━╇━━━━━━━━━━━━━━━━━━━━━━━━╇━━━━━━━━━━━━━━━┩\n",
              "│ input_layer_1 (<span style=\"color: #0087ff; text-decoration-color: #0087ff\">InputLayer</span>)      │ (<span style=\"color: #00d7ff; text-decoration-color: #00d7ff\">None</span>, <span style=\"color: #00af00; text-decoration-color: #00af00\">784</span>)            │             <span style=\"color: #00af00; text-decoration-color: #00af00\">0</span> │\n",
              "├─────────────────────────────────┼────────────────────────┼───────────────┤\n",
              "│ Hidden_Layer_1 (<span style=\"color: #0087ff; text-decoration-color: #0087ff\">Dense</span>)          │ (<span style=\"color: #00d7ff; text-decoration-color: #00d7ff\">None</span>, <span style=\"color: #00af00; text-decoration-color: #00af00\">300</span>)            │       <span style=\"color: #00af00; text-decoration-color: #00af00\">235,500</span> │\n",
              "├─────────────────────────────────┼────────────────────────┼───────────────┤\n",
              "│ Hidden_Layer_2 (<span style=\"color: #0087ff; text-decoration-color: #0087ff\">Dense</span>)          │ (<span style=\"color: #00d7ff; text-decoration-color: #00d7ff\">None</span>, <span style=\"color: #00af00; text-decoration-color: #00af00\">100</span>)            │        <span style=\"color: #00af00; text-decoration-color: #00af00\">30,100</span> │\n",
              "├─────────────────────────────────┼────────────────────────┼───────────────┤\n",
              "│ Hidden_Layer_3 (<span style=\"color: #0087ff; text-decoration-color: #0087ff\">Dense</span>)          │ (<span style=\"color: #00d7ff; text-decoration-color: #00d7ff\">None</span>, <span style=\"color: #00af00; text-decoration-color: #00af00\">100</span>)            │        <span style=\"color: #00af00; text-decoration-color: #00af00\">10,100</span> │\n",
              "├─────────────────────────────────┼────────────────────────┼───────────────┤\n",
              "│ Hidden_Layer_4 (<span style=\"color: #0087ff; text-decoration-color: #0087ff\">Dense</span>)          │ (<span style=\"color: #00d7ff; text-decoration-color: #00d7ff\">None</span>, <span style=\"color: #00af00; text-decoration-color: #00af00\">200</span>)            │        <span style=\"color: #00af00; text-decoration-color: #00af00\">20,200</span> │\n",
              "├─────────────────────────────────┼────────────────────────┼───────────────┤\n",
              "│ Output_Layer (<span style=\"color: #0087ff; text-decoration-color: #0087ff\">Dense</span>)            │ (<span style=\"color: #00d7ff; text-decoration-color: #00d7ff\">None</span>, <span style=\"color: #00af00; text-decoration-color: #00af00\">10</span>)             │         <span style=\"color: #00af00; text-decoration-color: #00af00\">2,010</span> │\n",
              "└─────────────────────────────────┴────────────────────────┴───────────────┘\n",
              "</pre>\n"
            ]
          },
          "metadata": {}
        },
        {
          "output_type": "display_data",
          "data": {
            "text/plain": [
              "\u001b[1m Total params: \u001b[0m\u001b[38;5;34m297,910\u001b[0m (1.14 MB)\n"
            ],
            "text/html": [
              "<pre style=\"white-space:pre;overflow-x:auto;line-height:normal;font-family:Menlo,'DejaVu Sans Mono',consolas,'Courier New',monospace\"><span style=\"font-weight: bold\"> Total params: </span><span style=\"color: #00af00; text-decoration-color: #00af00\">297,910</span> (1.14 MB)\n",
              "</pre>\n"
            ]
          },
          "metadata": {}
        },
        {
          "output_type": "display_data",
          "data": {
            "text/plain": [
              "\u001b[1m Trainable params: \u001b[0m\u001b[38;5;34m297,910\u001b[0m (1.14 MB)\n"
            ],
            "text/html": [
              "<pre style=\"white-space:pre;overflow-x:auto;line-height:normal;font-family:Menlo,'DejaVu Sans Mono',consolas,'Courier New',monospace\"><span style=\"font-weight: bold\"> Trainable params: </span><span style=\"color: #00af00; text-decoration-color: #00af00\">297,910</span> (1.14 MB)\n",
              "</pre>\n"
            ]
          },
          "metadata": {}
        },
        {
          "output_type": "display_data",
          "data": {
            "text/plain": [
              "\u001b[1m Non-trainable params: \u001b[0m\u001b[38;5;34m0\u001b[0m (0.00 B)\n"
            ],
            "text/html": [
              "<pre style=\"white-space:pre;overflow-x:auto;line-height:normal;font-family:Menlo,'DejaVu Sans Mono',consolas,'Courier New',monospace\"><span style=\"font-weight: bold\"> Non-trainable params: </span><span style=\"color: #00af00; text-decoration-color: #00af00\">0</span> (0.00 B)\n",
              "</pre>\n"
            ]
          },
          "metadata": {}
        }
      ],
      "metadata": {
        "_cell_guid": "bf09781e-6376-4f2d-a872-6292d466f657",
        "_uuid": "aaf8fe1cd6cb32675f0ed5009d7bc31d6f71e4ea",
        "_execution_state": "busy",
        "trusted": false,
        "id": "98MVDhYhSAYk",
        "colab": {
          "base_uri": "https://localhost:8080/",
          "height": 340
        },
        "outputId": "4981dbcb-0961-4551-80c9-540d22b5c795"
      },
      "cell_type": "code",
      "execution_count": 30,
      "source": [
        "model = Model(Inp, output)\n",
        "model.summary()"
      ]
    },
    {
      "outputs": [],
      "metadata": {
        "_cell_guid": "906807f1-ed62-4dee-a423-5f15842fb28f",
        "_uuid": "c4ea7858fbdf41308dcdb5d373af11484d5b5140",
        "_execution_state": "busy",
        "trusted": false,
        "id": "Wj_8XmlySAYl"
      },
      "cell_type": "code",
      "execution_count": 31,
      "source": [
        "learning_rate = 0.1\n",
        "training_epochs = 20\n",
        "batch_size = 100\n",
        "sgd = optimizers.SGD(learning_rate=learning_rate)"
      ]
    },
    {
      "outputs": [],
      "metadata": {
        "_cell_guid": "5678ce6d-58eb-4394-9a77-b67c94c2ca4f",
        "_uuid": "775193de659c41c949495a2afa3b14024a2536a7",
        "_execution_state": "busy",
        "trusted": false,
        "id": "BijCxvBqSAYl"
      },
      "cell_type": "code",
      "execution_count": 32,
      "source": [
        "model.compile(loss='categorical_crossentropy',\n",
        "              optimizer='sgd',\n",
        "              metrics=['accuracy'])"
      ]
    },
    {
      "outputs": [
        {
          "output_type": "stream",
          "name": "stdout",
          "text": [
            "Epoch 1/20\n",
            "336/336 - 3s - 10ms/step - accuracy: 0.4768 - loss: 1.9335 - val_accuracy: 0.7751 - val_loss: 1.1401\n",
            "Epoch 2/20\n",
            "336/336 - 3s - 8ms/step - accuracy: 0.8344 - loss: 0.6785 - val_accuracy: 0.8733 - val_loss: 0.4635\n",
            "Epoch 3/20\n",
            "336/336 - 3s - 8ms/step - accuracy: 0.8824 - loss: 0.4113 - val_accuracy: 0.8970 - val_loss: 0.3751\n",
            "Epoch 4/20\n",
            "336/336 - 5s - 15ms/step - accuracy: 0.9013 - loss: 0.3409 - val_accuracy: 0.9043 - val_loss: 0.3211\n",
            "Epoch 5/20\n",
            "336/336 - 2s - 7ms/step - accuracy: 0.9135 - loss: 0.3013 - val_accuracy: 0.9142 - val_loss: 0.2896\n",
            "Epoch 6/20\n",
            "336/336 - 3s - 9ms/step - accuracy: 0.9212 - loss: 0.2725 - val_accuracy: 0.9204 - val_loss: 0.2686\n",
            "Epoch 7/20\n",
            "336/336 - 5s - 13ms/step - accuracy: 0.9280 - loss: 0.2498 - val_accuracy: 0.9258 - val_loss: 0.2518\n",
            "Epoch 8/20\n",
            "336/336 - 3s - 8ms/step - accuracy: 0.9335 - loss: 0.2304 - val_accuracy: 0.9321 - val_loss: 0.2341\n",
            "Epoch 9/20\n",
            "336/336 - 2s - 7ms/step - accuracy: 0.9386 - loss: 0.2131 - val_accuracy: 0.9339 - val_loss: 0.2273\n",
            "Epoch 10/20\n",
            "336/336 - 3s - 10ms/step - accuracy: 0.9422 - loss: 0.1992 - val_accuracy: 0.9379 - val_loss: 0.2139\n",
            "Epoch 11/20\n",
            "336/336 - 4s - 12ms/step - accuracy: 0.9456 - loss: 0.1864 - val_accuracy: 0.9429 - val_loss: 0.2005\n",
            "Epoch 12/20\n",
            "336/336 - 2s - 7ms/step - accuracy: 0.9493 - loss: 0.1756 - val_accuracy: 0.9455 - val_loss: 0.1906\n",
            "Epoch 13/20\n",
            "336/336 - 2s - 7ms/step - accuracy: 0.9523 - loss: 0.1650 - val_accuracy: 0.9461 - val_loss: 0.1836\n",
            "Epoch 14/20\n",
            "336/336 - 3s - 9ms/step - accuracy: 0.9552 - loss: 0.1551 - val_accuracy: 0.9486 - val_loss: 0.1745\n",
            "Epoch 15/20\n",
            "336/336 - 4s - 13ms/step - accuracy: 0.9567 - loss: 0.1473 - val_accuracy: 0.9510 - val_loss: 0.1710\n",
            "Epoch 16/20\n",
            "336/336 - 3s - 7ms/step - accuracy: 0.9596 - loss: 0.1390 - val_accuracy: 0.9521 - val_loss: 0.1667\n",
            "Epoch 17/20\n",
            "336/336 - 3s - 9ms/step - accuracy: 0.9617 - loss: 0.1314 - val_accuracy: 0.9549 - val_loss: 0.1595\n",
            "Epoch 18/20\n",
            "336/336 - 3s - 9ms/step - accuracy: 0.9637 - loss: 0.1250 - val_accuracy: 0.9557 - val_loss: 0.1550\n",
            "Epoch 19/20\n",
            "336/336 - 5s - 16ms/step - accuracy: 0.9659 - loss: 0.1187 - val_accuracy: 0.9555 - val_loss: 0.1488\n",
            "Epoch 20/20\n",
            "336/336 - 5s - 14ms/step - accuracy: 0.9675 - loss: 0.1133 - val_accuracy: 0.9586 - val_loss: 0.1439\n"
          ]
        }
      ],
      "metadata": {
        "_cell_guid": "1a547d04-6aeb-4c76-8fbc-7fbca1b50b2a",
        "_uuid": "4960dfa65394fb0314ce9cb7af63d48709a39d1a",
        "_execution_state": "busy",
        "trusted": false,
        "id": "Q8_zh4SkSAYm",
        "colab": {
          "base_uri": "https://localhost:8080/"
        },
        "outputId": "ec913ef0-ba71-4072-b463-2fc6894bf998"
      },
      "cell_type": "code",
      "execution_count": 33,
      "source": [
        "history1 = model.fit(X_train, y_train,\n",
        "                     batch_size = batch_size,\n",
        "                     epochs = training_epochs,\n",
        "                     verbose = 2,\n",
        "                     validation_data=(X_cv, y_cv))"
      ]
    },
    {
      "outputs": [],
      "metadata": {
        "_cell_guid": "4e7a2ba9-ac08-4355-a37f-2336220cfda7",
        "_uuid": "3d9c3ffb9722b640ea0682e5826971045091db66",
        "_execution_state": "busy",
        "trusted": false,
        "id": "0s-YUt1hSAYo"
      },
      "cell_type": "code",
      "execution_count": 36,
      "source": [
        "Inp = Input(shape=(784,))\n",
        "x = Dense(n_hidden_1, activation='relu', name = \"Hidden_Layer_1\")(Inp)\n",
        "x = Dense(n_hidden_2, activation='relu', name = \"Hidden_Layer_2\")(x)\n",
        "x = Dense(n_hidden_3, activation='relu', name = \"Hidden_Layer_3\")(x)\n",
        "x = Dense(n_hidden_4, activation='relu', name = \"Hidden_Layer_4\")(x)\n",
        "output = Dense(num_digits, activation='softmax', name = \"Output_Layer\")(x)\n",
        "\n",
        "# We rely on ADAM as our optimizing methodology\n",
        "adam = keras.optimizers.Adam(learning_rate=learning_rate)\n",
        "model2 = Model(Inp, output)\n",
        "\n",
        "model2.compile(loss='categorical_crossentropy',\n",
        "              optimizer='adam',\n",
        "              metrics=['accuracy'])"
      ]
    },
    {
      "outputs": [
        {
          "output_type": "stream",
          "name": "stdout",
          "text": [
            "Epoch 1/20\n",
            "336/336 - 5s - 15ms/step - accuracy: 0.8949 - loss: 0.3429 - val_accuracy: 0.9539 - val_loss: 0.1521\n",
            "Epoch 2/20\n",
            "336/336 - 6s - 19ms/step - accuracy: 0.9613 - loss: 0.1248 - val_accuracy: 0.9546 - val_loss: 0.1472\n",
            "Epoch 3/20\n",
            "336/336 - 4s - 12ms/step - accuracy: 0.9738 - loss: 0.0821 - val_accuracy: 0.9683 - val_loss: 0.1049\n",
            "Epoch 4/20\n",
            "336/336 - 6s - 17ms/step - accuracy: 0.9807 - loss: 0.0602 - val_accuracy: 0.9707 - val_loss: 0.1026\n",
            "Epoch 5/20\n",
            "336/336 - 4s - 13ms/step - accuracy: 0.9852 - loss: 0.0458 - val_accuracy: 0.9738 - val_loss: 0.0892\n",
            "Epoch 6/20\n",
            "336/336 - 5s - 16ms/step - accuracy: 0.9893 - loss: 0.0345 - val_accuracy: 0.9731 - val_loss: 0.1085\n",
            "Epoch 7/20\n",
            "336/336 - 6s - 17ms/step - accuracy: 0.9896 - loss: 0.0325 - val_accuracy: 0.9676 - val_loss: 0.1167\n",
            "Epoch 8/20\n",
            "336/336 - 6s - 18ms/step - accuracy: 0.9912 - loss: 0.0257 - val_accuracy: 0.9744 - val_loss: 0.1029\n",
            "Epoch 9/20\n",
            "336/336 - 4s - 13ms/step - accuracy: 0.9923 - loss: 0.0221 - val_accuracy: 0.9712 - val_loss: 0.1160\n",
            "Epoch 10/20\n",
            "336/336 - 4s - 11ms/step - accuracy: 0.9941 - loss: 0.0196 - val_accuracy: 0.9744 - val_loss: 0.1103\n",
            "Epoch 11/20\n",
            "336/336 - 5s - 14ms/step - accuracy: 0.9928 - loss: 0.0207 - val_accuracy: 0.9736 - val_loss: 0.1093\n",
            "Epoch 12/20\n",
            "336/336 - 8s - 23ms/step - accuracy: 0.9956 - loss: 0.0133 - val_accuracy: 0.9694 - val_loss: 0.1356\n",
            "Epoch 13/20\n",
            "336/336 - 4s - 11ms/step - accuracy: 0.9932 - loss: 0.0205 - val_accuracy: 0.9724 - val_loss: 0.1275\n",
            "Epoch 14/20\n",
            "336/336 - 4s - 11ms/step - accuracy: 0.9960 - loss: 0.0122 - val_accuracy: 0.9775 - val_loss: 0.1148\n",
            "Epoch 15/20\n",
            "336/336 - 4s - 13ms/step - accuracy: 0.9951 - loss: 0.0163 - val_accuracy: 0.9740 - val_loss: 0.1140\n",
            "Epoch 16/20\n",
            "336/336 - 3s - 9ms/step - accuracy: 0.9954 - loss: 0.0139 - val_accuracy: 0.9770 - val_loss: 0.1186\n",
            "Epoch 17/20\n",
            "336/336 - 7s - 20ms/step - accuracy: 0.9970 - loss: 0.0090 - val_accuracy: 0.9761 - val_loss: 0.1118\n",
            "Epoch 18/20\n",
            "336/336 - 4s - 11ms/step - accuracy: 0.9944 - loss: 0.0177 - val_accuracy: 0.9761 - val_loss: 0.1215\n",
            "Epoch 19/20\n",
            "336/336 - 5s - 14ms/step - accuracy: 0.9955 - loss: 0.0151 - val_accuracy: 0.9775 - val_loss: 0.1170\n",
            "Epoch 20/20\n",
            "336/336 - 4s - 11ms/step - accuracy: 0.9985 - loss: 0.0048 - val_accuracy: 0.9740 - val_loss: 0.1402\n"
          ]
        }
      ],
      "metadata": {
        "_cell_guid": "e4470ac7-6888-4b10-a4e5-8bd4e22301cf",
        "_uuid": "7f94a2f9d7db89bf3fb28ecff64dbf7a496b0b9c",
        "_execution_state": "busy",
        "trusted": false,
        "id": "TnjXtouZSAYo",
        "colab": {
          "base_uri": "https://localhost:8080/"
        },
        "outputId": "4c71e1fc-e299-482c-c240-fe10259deba4"
      },
      "cell_type": "code",
      "execution_count": 40,
      "source": [
        "history2 = model2.fit(X_train, y_train,\n",
        "                      batch_size = batch_size,\n",
        "                      epochs = training_epochs,\n",
        "                      verbose = 2,\n",
        "                      validation_data=(X_cv, y_cv))"
      ]
    },
    {
      "outputs": [],
      "metadata": {
        "_cell_guid": "da528246-4223-42ff-af96-cd3419c34507",
        "_uuid": "d2e88469ac4ed8ac19a195d71941178d8cdb7c32",
        "_execution_state": "busy",
        "trusted": false,
        "id": "OH1BMvfZSAYp"
      },
      "cell_type": "code",
      "execution_count": 37,
      "source": [
        "Inp = Input(shape=(784,))\n",
        "x = Dense(n_hidden_1, activation='relu', name = \"Hidden_Layer_1\")(Inp)\n",
        "x = Dense(n_hidden_2, activation='relu', name = \"Hidden_Layer_2\")(x)\n",
        "x = Dense(n_hidden_3, activation='relu', name = \"Hidden_Layer_3\")(x)\n",
        "x = Dense(n_hidden_4, activation='relu', name = \"Hidden_Layer_4\")(x)\n",
        "output = Dense(num_digits, activation='softmax', name = \"Output_Layer\")(x)\n",
        "\n",
        "learning_rate = 0.01\n",
        "adam = keras.optimizers.Adam(learning_rate=learning_rate)\n",
        "model2a = Model(Inp, output)\n",
        "\n",
        "model2a.compile(loss='categorical_crossentropy',\n",
        "              optimizer='adam',\n",
        "              metrics=['accuracy'])"
      ]
    },
    {
      "outputs": [
        {
          "output_type": "stream",
          "name": "stdout",
          "text": [
            "Epoch 1/20\n",
            "336/336 - 5s - 15ms/step - accuracy: 0.8988 - loss: 0.3377 - val_accuracy: 0.9511 - val_loss: 0.1656\n",
            "Epoch 2/20\n",
            "336/336 - 5s - 16ms/step - accuracy: 0.9610 - loss: 0.1260 - val_accuracy: 0.9637 - val_loss: 0.1305\n",
            "Epoch 3/20\n",
            "336/336 - 4s - 10ms/step - accuracy: 0.9738 - loss: 0.0858 - val_accuracy: 0.9701 - val_loss: 0.0976\n",
            "Epoch 4/20\n",
            "336/336 - 5s - 14ms/step - accuracy: 0.9814 - loss: 0.0577 - val_accuracy: 0.9723 - val_loss: 0.0898\n",
            "Epoch 5/20\n",
            "336/336 - 6s - 18ms/step - accuracy: 0.9847 - loss: 0.0471 - val_accuracy: 0.9699 - val_loss: 0.0989\n",
            "Epoch 6/20\n",
            "336/336 - 3s - 10ms/step - accuracy: 0.9892 - loss: 0.0334 - val_accuracy: 0.9719 - val_loss: 0.1108\n",
            "Epoch 7/20\n",
            "336/336 - 3s - 10ms/step - accuracy: 0.9879 - loss: 0.0345 - val_accuracy: 0.9706 - val_loss: 0.1102\n",
            "Epoch 8/20\n",
            "336/336 - 3s - 9ms/step - accuracy: 0.9933 - loss: 0.0204 - val_accuracy: 0.9726 - val_loss: 0.1166\n",
            "Epoch 9/20\n",
            "336/336 - 5s - 15ms/step - accuracy: 0.9933 - loss: 0.0210 - val_accuracy: 0.9752 - val_loss: 0.1071\n",
            "Epoch 10/20\n",
            "336/336 - 3s - 8ms/step - accuracy: 0.9916 - loss: 0.0244 - val_accuracy: 0.9699 - val_loss: 0.1304\n",
            "Epoch 11/20\n",
            "336/336 - 3s - 8ms/step - accuracy: 0.9941 - loss: 0.0174 - val_accuracy: 0.9696 - val_loss: 0.1341\n",
            "Epoch 12/20\n",
            "336/336 - 4s - 11ms/step - accuracy: 0.9924 - loss: 0.0229 - val_accuracy: 0.9725 - val_loss: 0.1311\n",
            "Epoch 13/20\n",
            "336/336 - 4s - 13ms/step - accuracy: 0.9937 - loss: 0.0202 - val_accuracy: 0.9721 - val_loss: 0.1284\n",
            "Epoch 14/20\n",
            "336/336 - 5s - 15ms/step - accuracy: 0.9971 - loss: 0.0083 - val_accuracy: 0.9732 - val_loss: 0.1302\n",
            "Epoch 15/20\n",
            "336/336 - 6s - 17ms/step - accuracy: 0.9950 - loss: 0.0185 - val_accuracy: 0.9738 - val_loss: 0.1331\n",
            "Epoch 16/20\n",
            "336/336 - 4s - 11ms/step - accuracy: 0.9956 - loss: 0.0142 - val_accuracy: 0.9768 - val_loss: 0.1145\n",
            "Epoch 17/20\n",
            "336/336 - 3s - 9ms/step - accuracy: 0.9966 - loss: 0.0099 - val_accuracy: 0.9764 - val_loss: 0.1217\n",
            "Epoch 18/20\n",
            "336/336 - 4s - 12ms/step - accuracy: 0.9965 - loss: 0.0121 - val_accuracy: 0.9792 - val_loss: 0.1097\n",
            "Epoch 19/20\n",
            "336/336 - 3s - 8ms/step - accuracy: 0.9959 - loss: 0.0127 - val_accuracy: 0.9786 - val_loss: 0.1116\n",
            "Epoch 20/20\n",
            "336/336 - 3s - 10ms/step - accuracy: 0.9966 - loss: 0.0115 - val_accuracy: 0.9745 - val_loss: 0.1466\n"
          ]
        }
      ],
      "metadata": {
        "_cell_guid": "847391bb-4640-4117-a35e-5593d823bbc4",
        "_uuid": "8e397c8d027a4f27b1f72ac9333de51cbc335cd6",
        "_execution_state": "busy",
        "trusted": false,
        "id": "HtNq6QCcSAYp",
        "colab": {
          "base_uri": "https://localhost:8080/"
        },
        "outputId": "c45150b8-ce64-41e6-c120-f5a1230b0d69"
      },
      "cell_type": "code",
      "execution_count": 42,
      "source": [
        "history2a = model2a.fit(X_train, y_train,\n",
        "                        batch_size = batch_size,\n",
        "                        epochs = training_epochs,\n",
        "                        verbose = 2,\n",
        "                        validation_data=(X_cv, y_cv))"
      ]
    },
    {
      "metadata": {
        "collapsed": false,
        "_uuid": "42520a694b6caf71582c6d5aad5a8599d52e5096",
        "_execution_state": "idle",
        "_cell_guid": "590e8fcc-b3da-41e7-984d-d5d53aa5cb81",
        "id": "NZhf4fxbSAYp"
      },
      "cell_type": "markdown",
      "source": [
        "Model 2B"
      ]
    },
    {
      "outputs": [],
      "metadata": {
        "_cell_guid": "18ef2f7d-f9a6-4609-8fd4-7d98cb7bc82f",
        "_uuid": "fbc0a1e06296ada3553c9328e48861645680bbf9",
        "_execution_state": "busy",
        "trusted": false,
        "id": "dFjluAmhSAYq"
      },
      "cell_type": "code",
      "execution_count": 43,
      "source": [
        "Inp = Input(shape=(784,))\n",
        "x = Dense(n_hidden_1, activation='relu', name = \"Hidden_Layer_1\")(Inp)\n",
        "x = Dense(n_hidden_2, activation='relu', name = \"Hidden_Layer_2\")(x)\n",
        "x = Dense(n_hidden_3, activation='relu', name = \"Hidden_Layer_3\")(x)\n",
        "x = Dense(n_hidden_4, activation='relu', name = \"Hidden_Layer_4\")(x)\n",
        "output = Dense(num_digits, activation='softmax', name = \"Output_Layer\")(x)\n",
        "\n",
        "learning_rate = 0.5\n",
        "adam = keras.optimizers.Adam(learning_rate=learning_rate)\n",
        "model2b = Model(Inp, output)\n",
        "\n",
        "model2b.compile(loss='categorical_crossentropy',\n",
        "              optimizer='adam',\n",
        "              metrics=['accuracy'])"
      ]
    },
    {
      "outputs": [
        {
          "output_type": "stream",
          "name": "stdout",
          "text": [
            "Epoch 1/20\n",
            "\u001b[1m336/336\u001b[0m \u001b[32m━━━━━━━━━━━━━━━━━━━━\u001b[0m\u001b[37m\u001b[0m \u001b[1m5s\u001b[0m 10ms/step - accuracy: 0.8106 - loss: 0.6358 - val_accuracy: 0.9493 - val_loss: 0.1638\n",
            "Epoch 2/20\n",
            "\u001b[1m336/336\u001b[0m \u001b[32m━━━━━━━━━━━━━━━━━━━━\u001b[0m\u001b[37m\u001b[0m \u001b[1m6s\u001b[0m 12ms/step - accuracy: 0.9588 - loss: 0.1326 - val_accuracy: 0.9649 - val_loss: 0.1128\n",
            "Epoch 3/20\n",
            "\u001b[1m336/336\u001b[0m \u001b[32m━━━━━━━━━━━━━━━━━━━━\u001b[0m\u001b[37m\u001b[0m \u001b[1m3s\u001b[0m 9ms/step - accuracy: 0.9715 - loss: 0.0848 - val_accuracy: 0.9687 - val_loss: 0.1080\n",
            "Epoch 4/20\n",
            "\u001b[1m336/336\u001b[0m \u001b[32m━━━━━━━━━━━━━━━━━━━━\u001b[0m\u001b[37m\u001b[0m \u001b[1m3s\u001b[0m 9ms/step - accuracy: 0.9822 - loss: 0.0571 - val_accuracy: 0.9720 - val_loss: 0.0971\n",
            "Epoch 5/20\n",
            "\u001b[1m336/336\u001b[0m \u001b[32m━━━━━━━━━━━━━━━━━━━━\u001b[0m\u001b[37m\u001b[0m \u001b[1m6s\u001b[0m 13ms/step - accuracy: 0.9863 - loss: 0.0432 - val_accuracy: 0.9724 - val_loss: 0.0965\n",
            "Epoch 6/20\n",
            "\u001b[1m336/336\u001b[0m \u001b[32m━━━━━━━━━━━━━━━━━━━━\u001b[0m\u001b[37m\u001b[0m \u001b[1m4s\u001b[0m 10ms/step - accuracy: 0.9881 - loss: 0.0350 - val_accuracy: 0.9694 - val_loss: 0.1129\n",
            "Epoch 7/20\n",
            "\u001b[1m336/336\u001b[0m \u001b[32m━━━━━━━━━━━━━━━━━━━━\u001b[0m\u001b[37m\u001b[0m \u001b[1m6s\u001b[0m 13ms/step - accuracy: 0.9916 - loss: 0.0270 - val_accuracy: 0.9717 - val_loss: 0.1038\n",
            "Epoch 8/20\n",
            "\u001b[1m336/336\u001b[0m \u001b[32m━━━━━━━━━━━━━━━━━━━━\u001b[0m\u001b[37m\u001b[0m \u001b[1m3s\u001b[0m 9ms/step - accuracy: 0.9930 - loss: 0.0221 - val_accuracy: 0.9727 - val_loss: 0.1143\n",
            "Epoch 9/20\n",
            "\u001b[1m336/336\u001b[0m \u001b[32m━━━━━━━━━━━━━━━━━━━━\u001b[0m\u001b[37m\u001b[0m \u001b[1m5s\u001b[0m 9ms/step - accuracy: 0.9925 - loss: 0.0214 - val_accuracy: 0.9739 - val_loss: 0.0970\n",
            "Epoch 10/20\n",
            "\u001b[1m336/336\u001b[0m \u001b[32m━━━━━━━━━━━━━━━━━━━━\u001b[0m\u001b[37m\u001b[0m \u001b[1m4s\u001b[0m 13ms/step - accuracy: 0.9924 - loss: 0.0211 - val_accuracy: 0.9721 - val_loss: 0.1109\n",
            "Epoch 11/20\n",
            "\u001b[1m336/336\u001b[0m \u001b[32m━━━━━━━━━━━━━━━━━━━━\u001b[0m\u001b[37m\u001b[0m \u001b[1m3s\u001b[0m 9ms/step - accuracy: 0.9914 - loss: 0.0254 - val_accuracy: 0.9752 - val_loss: 0.1114\n",
            "Epoch 12/20\n",
            "\u001b[1m336/336\u001b[0m \u001b[32m━━━━━━━━━━━━━━━━━━━━\u001b[0m\u001b[37m\u001b[0m \u001b[1m5s\u001b[0m 9ms/step - accuracy: 0.9960 - loss: 0.0111 - val_accuracy: 0.9721 - val_loss: 0.1257\n",
            "Epoch 13/20\n",
            "\u001b[1m336/336\u001b[0m \u001b[32m━━━━━━━━━━━━━━━━━━━━\u001b[0m\u001b[37m\u001b[0m \u001b[1m6s\u001b[0m 12ms/step - accuracy: 0.9965 - loss: 0.0123 - val_accuracy: 0.9719 - val_loss: 0.1224\n",
            "Epoch 14/20\n",
            "\u001b[1m336/336\u001b[0m \u001b[32m━━━━━━━━━━━━━━━━━━━━\u001b[0m\u001b[37m\u001b[0m \u001b[1m3s\u001b[0m 10ms/step - accuracy: 0.9937 - loss: 0.0185 - val_accuracy: 0.9689 - val_loss: 0.1475\n",
            "Epoch 15/20\n",
            "\u001b[1m336/336\u001b[0m \u001b[32m━━━━━━━━━━━━━━━━━━━━\u001b[0m\u001b[37m\u001b[0m \u001b[1m3s\u001b[0m 9ms/step - accuracy: 0.9942 - loss: 0.0177 - val_accuracy: 0.9756 - val_loss: 0.1221\n",
            "Epoch 16/20\n",
            "\u001b[1m336/336\u001b[0m \u001b[32m━━━━━━━━━━━━━━━━━━━━\u001b[0m\u001b[37m\u001b[0m \u001b[1m6s\u001b[0m 13ms/step - accuracy: 0.9960 - loss: 0.0135 - val_accuracy: 0.9756 - val_loss: 0.1082\n",
            "Epoch 17/20\n",
            "\u001b[1m336/336\u001b[0m \u001b[32m━━━━━━━━━━━━━━━━━━━━\u001b[0m\u001b[37m\u001b[0m \u001b[1m4s\u001b[0m 10ms/step - accuracy: 0.9968 - loss: 0.0100 - val_accuracy: 0.9767 - val_loss: 0.1292\n",
            "Epoch 18/20\n",
            "\u001b[1m336/336\u001b[0m \u001b[32m━━━━━━━━━━━━━━━━━━━━\u001b[0m\u001b[37m\u001b[0m \u001b[1m3s\u001b[0m 9ms/step - accuracy: 0.9945 - loss: 0.0218 - val_accuracy: 0.9724 - val_loss: 0.1396\n",
            "Epoch 19/20\n",
            "\u001b[1m336/336\u001b[0m \u001b[32m━━━━━━━━━━━━━━━━━━━━\u001b[0m\u001b[37m\u001b[0m \u001b[1m6s\u001b[0m 12ms/step - accuracy: 0.9959 - loss: 0.0138 - val_accuracy: 0.9724 - val_loss: 0.1361\n",
            "Epoch 20/20\n",
            "\u001b[1m336/336\u001b[0m \u001b[32m━━━━━━━━━━━━━━━━━━━━\u001b[0m\u001b[37m\u001b[0m \u001b[1m3s\u001b[0m 9ms/step - accuracy: 0.9967 - loss: 0.0094 - val_accuracy: 0.9743 - val_loss: 0.1329\n"
          ]
        }
      ],
      "metadata": {
        "_cell_guid": "ad3ac83b-a040-42ba-9d62-2203e62a82ec",
        "_uuid": "c2e1a75c4a95acdfd3d5ce81af0c20bce995ca24",
        "_execution_state": "busy",
        "trusted": false,
        "id": "lJfeYq9ySAYq",
        "colab": {
          "base_uri": "https://localhost:8080/"
        },
        "outputId": "7159b643-0263-470c-c0de-bfc17c45379b"
      },
      "cell_type": "code",
      "execution_count": 44,
      "source": [
        "history2b = model2b.fit(X_train, y_train,\n",
        "                        batch_size = batch_size,\n",
        "                        epochs = training_epochs,\n",
        "                            validation_data=(X_cv, y_cv))"
      ]
    },
    {
      "outputs": [],
      "metadata": {
        "_cell_guid": "25d57f65-533c-432b-bd4a-a3127101d4bb",
        "_uuid": "c19270be516858cca76b3479417e4017877896b1",
        "_execution_state": "busy",
        "trusted": false,
        "id": "PYusrjd9SAYr"
      },
      "cell_type": "code",
      "execution_count": 45,
      "source": [
        "# Input Parameters\n",
        "n_input = 784 # number of features\n",
        "n_hidden_1 = 300\n",
        "n_hidden_2 = 100\n",
        "n_hidden_3 = 100\n",
        "n_hidden_4 = 100\n",
        "n_hidden_5 = 200\n",
        "num_digits = 10"
      ]
    },
    {
      "outputs": [],
      "metadata": {
        "_cell_guid": "d179df94-04b5-4d1e-ab7f-882a72442837",
        "_uuid": "c919e5d20e55f0c86152efbb729feeb0292abf0a",
        "_execution_state": "busy",
        "trusted": false,
        "id": "aszVZYxOSAYr"
      },
      "cell_type": "code",
      "execution_count": 46,
      "source": [
        "Inp = Input(shape=(784,))\n",
        "x = Dense(n_hidden_1, activation='relu', name = \"Hidden_Layer_1\")(Inp)\n",
        "x = Dense(n_hidden_2, activation='relu', name = \"Hidden_Layer_2\")(x)\n",
        "x = Dense(n_hidden_3, activation='relu', name = \"Hidden_Layer_3\")(x)\n",
        "x = Dense(n_hidden_4, activation='relu', name = \"Hidden_Layer_4\")(x)\n",
        "x = Dense(n_hidden_5, activation='relu', name = \"Hidden_Layer_5\")(x)\n",
        "output = Dense(num_digits, activation='softmax', name = \"Output_Layer\")(x)"
      ]
    },
    {
      "outputs": [
        {
          "output_type": "display_data",
          "data": {
            "text/plain": [
              "\u001b[1mModel: \"functional_7\"\u001b[0m\n"
            ],
            "text/html": [
              "<pre style=\"white-space:pre;overflow-x:auto;line-height:normal;font-family:Menlo,'DejaVu Sans Mono',consolas,'Courier New',monospace\"><span style=\"font-weight: bold\">Model: \"functional_7\"</span>\n",
              "</pre>\n"
            ]
          },
          "metadata": {}
        },
        {
          "output_type": "display_data",
          "data": {
            "text/plain": [
              "┏━━━━━━━━━━━━━━━━━━━━━━━━━━━━━━━━━┳━━━━━━━━━━━━━━━━━━━━━━━━┳━━━━━━━━━━━━━━━┓\n",
              "┃\u001b[1m \u001b[0m\u001b[1mLayer (type)                   \u001b[0m\u001b[1m \u001b[0m┃\u001b[1m \u001b[0m\u001b[1mOutput Shape          \u001b[0m\u001b[1m \u001b[0m┃\u001b[1m \u001b[0m\u001b[1m      Param #\u001b[0m\u001b[1m \u001b[0m┃\n",
              "┡━━━━━━━━━━━━━━━━━━━━━━━━━━━━━━━━━╇━━━━━━━━━━━━━━━━━━━━━━━━╇━━━━━━━━━━━━━━━┩\n",
              "│ input_layer_8 (\u001b[38;5;33mInputLayer\u001b[0m)      │ (\u001b[38;5;45mNone\u001b[0m, \u001b[38;5;34m784\u001b[0m)            │             \u001b[38;5;34m0\u001b[0m │\n",
              "├─────────────────────────────────┼────────────────────────┼───────────────┤\n",
              "│ Hidden_Layer_1 (\u001b[38;5;33mDense\u001b[0m)          │ (\u001b[38;5;45mNone\u001b[0m, \u001b[38;5;34m300\u001b[0m)            │       \u001b[38;5;34m235,500\u001b[0m │\n",
              "├─────────────────────────────────┼────────────────────────┼───────────────┤\n",
              "│ Hidden_Layer_2 (\u001b[38;5;33mDense\u001b[0m)          │ (\u001b[38;5;45mNone\u001b[0m, \u001b[38;5;34m100\u001b[0m)            │        \u001b[38;5;34m30,100\u001b[0m │\n",
              "├─────────────────────────────────┼────────────────────────┼───────────────┤\n",
              "│ Hidden_Layer_3 (\u001b[38;5;33mDense\u001b[0m)          │ (\u001b[38;5;45mNone\u001b[0m, \u001b[38;5;34m100\u001b[0m)            │        \u001b[38;5;34m10,100\u001b[0m │\n",
              "├─────────────────────────────────┼────────────────────────┼───────────────┤\n",
              "│ Hidden_Layer_4 (\u001b[38;5;33mDense\u001b[0m)          │ (\u001b[38;5;45mNone\u001b[0m, \u001b[38;5;34m100\u001b[0m)            │        \u001b[38;5;34m10,100\u001b[0m │\n",
              "├─────────────────────────────────┼────────────────────────┼───────────────┤\n",
              "│ Hidden_Layer_5 (\u001b[38;5;33mDense\u001b[0m)          │ (\u001b[38;5;45mNone\u001b[0m, \u001b[38;5;34m200\u001b[0m)            │        \u001b[38;5;34m20,200\u001b[0m │\n",
              "├─────────────────────────────────┼────────────────────────┼───────────────┤\n",
              "│ Output_Layer (\u001b[38;5;33mDense\u001b[0m)            │ (\u001b[38;5;45mNone\u001b[0m, \u001b[38;5;34m10\u001b[0m)             │         \u001b[38;5;34m2,010\u001b[0m │\n",
              "└─────────────────────────────────┴────────────────────────┴───────────────┘\n"
            ],
            "text/html": [
              "<pre style=\"white-space:pre;overflow-x:auto;line-height:normal;font-family:Menlo,'DejaVu Sans Mono',consolas,'Courier New',monospace\">┏━━━━━━━━━━━━━━━━━━━━━━━━━━━━━━━━━┳━━━━━━━━━━━━━━━━━━━━━━━━┳━━━━━━━━━━━━━━━┓\n",
              "┃<span style=\"font-weight: bold\"> Layer (type)                    </span>┃<span style=\"font-weight: bold\"> Output Shape           </span>┃<span style=\"font-weight: bold\">       Param # </span>┃\n",
              "┡━━━━━━━━━━━━━━━━━━━━━━━━━━━━━━━━━╇━━━━━━━━━━━━━━━━━━━━━━━━╇━━━━━━━━━━━━━━━┩\n",
              "│ input_layer_8 (<span style=\"color: #0087ff; text-decoration-color: #0087ff\">InputLayer</span>)      │ (<span style=\"color: #00d7ff; text-decoration-color: #00d7ff\">None</span>, <span style=\"color: #00af00; text-decoration-color: #00af00\">784</span>)            │             <span style=\"color: #00af00; text-decoration-color: #00af00\">0</span> │\n",
              "├─────────────────────────────────┼────────────────────────┼───────────────┤\n",
              "│ Hidden_Layer_1 (<span style=\"color: #0087ff; text-decoration-color: #0087ff\">Dense</span>)          │ (<span style=\"color: #00d7ff; text-decoration-color: #00d7ff\">None</span>, <span style=\"color: #00af00; text-decoration-color: #00af00\">300</span>)            │       <span style=\"color: #00af00; text-decoration-color: #00af00\">235,500</span> │\n",
              "├─────────────────────────────────┼────────────────────────┼───────────────┤\n",
              "│ Hidden_Layer_2 (<span style=\"color: #0087ff; text-decoration-color: #0087ff\">Dense</span>)          │ (<span style=\"color: #00d7ff; text-decoration-color: #00d7ff\">None</span>, <span style=\"color: #00af00; text-decoration-color: #00af00\">100</span>)            │        <span style=\"color: #00af00; text-decoration-color: #00af00\">30,100</span> │\n",
              "├─────────────────────────────────┼────────────────────────┼───────────────┤\n",
              "│ Hidden_Layer_3 (<span style=\"color: #0087ff; text-decoration-color: #0087ff\">Dense</span>)          │ (<span style=\"color: #00d7ff; text-decoration-color: #00d7ff\">None</span>, <span style=\"color: #00af00; text-decoration-color: #00af00\">100</span>)            │        <span style=\"color: #00af00; text-decoration-color: #00af00\">10,100</span> │\n",
              "├─────────────────────────────────┼────────────────────────┼───────────────┤\n",
              "│ Hidden_Layer_4 (<span style=\"color: #0087ff; text-decoration-color: #0087ff\">Dense</span>)          │ (<span style=\"color: #00d7ff; text-decoration-color: #00d7ff\">None</span>, <span style=\"color: #00af00; text-decoration-color: #00af00\">100</span>)            │        <span style=\"color: #00af00; text-decoration-color: #00af00\">10,100</span> │\n",
              "├─────────────────────────────────┼────────────────────────┼───────────────┤\n",
              "│ Hidden_Layer_5 (<span style=\"color: #0087ff; text-decoration-color: #0087ff\">Dense</span>)          │ (<span style=\"color: #00d7ff; text-decoration-color: #00d7ff\">None</span>, <span style=\"color: #00af00; text-decoration-color: #00af00\">200</span>)            │        <span style=\"color: #00af00; text-decoration-color: #00af00\">20,200</span> │\n",
              "├─────────────────────────────────┼────────────────────────┼───────────────┤\n",
              "│ Output_Layer (<span style=\"color: #0087ff; text-decoration-color: #0087ff\">Dense</span>)            │ (<span style=\"color: #00d7ff; text-decoration-color: #00d7ff\">None</span>, <span style=\"color: #00af00; text-decoration-color: #00af00\">10</span>)             │         <span style=\"color: #00af00; text-decoration-color: #00af00\">2,010</span> │\n",
              "└─────────────────────────────────┴────────────────────────┴───────────────┘\n",
              "</pre>\n"
            ]
          },
          "metadata": {}
        },
        {
          "output_type": "display_data",
          "data": {
            "text/plain": [
              "\u001b[1m Total params: \u001b[0m\u001b[38;5;34m308,010\u001b[0m (1.17 MB)\n"
            ],
            "text/html": [
              "<pre style=\"white-space:pre;overflow-x:auto;line-height:normal;font-family:Menlo,'DejaVu Sans Mono',consolas,'Courier New',monospace\"><span style=\"font-weight: bold\"> Total params: </span><span style=\"color: #00af00; text-decoration-color: #00af00\">308,010</span> (1.17 MB)\n",
              "</pre>\n"
            ]
          },
          "metadata": {}
        },
        {
          "output_type": "display_data",
          "data": {
            "text/plain": [
              "\u001b[1m Trainable params: \u001b[0m\u001b[38;5;34m308,010\u001b[0m (1.17 MB)\n"
            ],
            "text/html": [
              "<pre style=\"white-space:pre;overflow-x:auto;line-height:normal;font-family:Menlo,'DejaVu Sans Mono',consolas,'Courier New',monospace\"><span style=\"font-weight: bold\"> Trainable params: </span><span style=\"color: #00af00; text-decoration-color: #00af00\">308,010</span> (1.17 MB)\n",
              "</pre>\n"
            ]
          },
          "metadata": {}
        },
        {
          "output_type": "display_data",
          "data": {
            "text/plain": [
              "\u001b[1m Non-trainable params: \u001b[0m\u001b[38;5;34m0\u001b[0m (0.00 B)\n"
            ],
            "text/html": [
              "<pre style=\"white-space:pre;overflow-x:auto;line-height:normal;font-family:Menlo,'DejaVu Sans Mono',consolas,'Courier New',monospace\"><span style=\"font-weight: bold\"> Non-trainable params: </span><span style=\"color: #00af00; text-decoration-color: #00af00\">0</span> (0.00 B)\n",
              "</pre>\n"
            ]
          },
          "metadata": {}
        }
      ],
      "metadata": {
        "_cell_guid": "04f2f013-41ee-48a7-9204-cfe8b748e09c",
        "_uuid": "db189665726670192df8ed9e9758e908821f629b",
        "_execution_state": "busy",
        "trusted": false,
        "id": "dmR8BlXMSAYr",
        "colab": {
          "base_uri": "https://localhost:8080/",
          "height": 374
        },
        "outputId": "c0e36ba9-ee03-4cbc-e01d-bf3343889a9e"
      },
      "cell_type": "code",
      "execution_count": 48,
      "source": [
        "model3 = Model(Inp, output)\n",
        "model3.summary()"
      ]
    },
    {
      "outputs": [],
      "metadata": {
        "_cell_guid": "3da4e128-5987-4fb3-a2c7-93420c844d1d",
        "_uuid": "304ab7710bc6f2e56d698cc232fadbba6886b664",
        "_execution_state": "busy",
        "trusted": false,
        "id": "PQgST8YfSAYs"
      },
      "cell_type": "code",
      "execution_count": 49,
      "source": [
        "adam = keras.optimizers.Adam(learning_rate=0.01)\n",
        "\n",
        "model3.compile(loss='categorical_crossentropy',\n",
        "              optimizer='adam',\n",
        "              metrics=['accuracy'])"
      ]
    },
    {
      "outputs": [
        {
          "output_type": "stream",
          "name": "stdout",
          "text": [
            "Epoch 1/20\n",
            "\u001b[1m336/336\u001b[0m \u001b[32m━━━━━━━━━━━━━━━━━━━━\u001b[0m\u001b[37m\u001b[0m \u001b[1m7s\u001b[0m 16ms/step - accuracy: 0.7944 - loss: 0.6698 - val_accuracy: 0.9508 - val_loss: 0.1649\n",
            "Epoch 2/20\n",
            "\u001b[1m336/336\u001b[0m \u001b[32m━━━━━━━━━━━━━━━━━━━━\u001b[0m\u001b[37m\u001b[0m \u001b[1m3s\u001b[0m 9ms/step - accuracy: 0.9594 - loss: 0.1312 - val_accuracy: 0.9664 - val_loss: 0.1097\n",
            "Epoch 3/20\n",
            "\u001b[1m336/336\u001b[0m \u001b[32m━━━━━━━━━━━━━━━━━━━━\u001b[0m\u001b[37m\u001b[0m \u001b[1m6s\u001b[0m 11ms/step - accuracy: 0.9743 - loss: 0.0837 - val_accuracy: 0.9662 - val_loss: 0.1080\n",
            "Epoch 4/20\n",
            "\u001b[1m336/336\u001b[0m \u001b[32m━━━━━━━━━━━━━━━━━━━━\u001b[0m\u001b[37m\u001b[0m \u001b[1m5s\u001b[0m 9ms/step - accuracy: 0.9793 - loss: 0.0653 - val_accuracy: 0.9714 - val_loss: 0.0979\n",
            "Epoch 5/20\n",
            "\u001b[1m336/336\u001b[0m \u001b[32m━━━━━━━━━━━━━━━━━━━━\u001b[0m\u001b[37m\u001b[0m \u001b[1m5s\u001b[0m 10ms/step - accuracy: 0.9866 - loss: 0.0458 - val_accuracy: 0.9698 - val_loss: 0.1136\n",
            "Epoch 6/20\n",
            "\u001b[1m336/336\u001b[0m \u001b[32m━━━━━━━━━━━━━━━━━━━━\u001b[0m\u001b[37m\u001b[0m \u001b[1m6s\u001b[0m 13ms/step - accuracy: 0.9874 - loss: 0.0379 - val_accuracy: 0.9739 - val_loss: 0.0981\n",
            "Epoch 7/20\n",
            "\u001b[1m336/336\u001b[0m \u001b[32m━━━━━━━━━━━━━━━━━━━━\u001b[0m\u001b[37m\u001b[0m \u001b[1m4s\u001b[0m 10ms/step - accuracy: 0.9897 - loss: 0.0323 - val_accuracy: 0.9705 - val_loss: 0.1184\n",
            "Epoch 8/20\n",
            "\u001b[1m336/336\u001b[0m \u001b[32m━━━━━━━━━━━━━━━━━━━━\u001b[0m\u001b[37m\u001b[0m \u001b[1m4s\u001b[0m 12ms/step - accuracy: 0.9911 - loss: 0.0247 - val_accuracy: 0.9708 - val_loss: 0.1216\n",
            "Epoch 9/20\n",
            "\u001b[1m336/336\u001b[0m \u001b[32m━━━━━━━━━━━━━━━━━━━━\u001b[0m\u001b[37m\u001b[0m \u001b[1m6s\u001b[0m 13ms/step - accuracy: 0.9920 - loss: 0.0244 - val_accuracy: 0.9752 - val_loss: 0.1027\n",
            "Epoch 10/20\n",
            "\u001b[1m336/336\u001b[0m \u001b[32m━━━━━━━━━━━━━━━━━━━━\u001b[0m\u001b[37m\u001b[0m \u001b[1m4s\u001b[0m 11ms/step - accuracy: 0.9929 - loss: 0.0226 - val_accuracy: 0.9737 - val_loss: 0.0987\n",
            "Epoch 11/20\n",
            "\u001b[1m336/336\u001b[0m \u001b[32m━━━━━━━━━━━━━━━━━━━━\u001b[0m\u001b[37m\u001b[0m \u001b[1m5s\u001b[0m 12ms/step - accuracy: 0.9943 - loss: 0.0192 - val_accuracy: 0.9782 - val_loss: 0.0982\n",
            "Epoch 12/20\n",
            "\u001b[1m336/336\u001b[0m \u001b[32m━━━━━━━━━━━━━━━━━━━━\u001b[0m\u001b[37m\u001b[0m \u001b[1m4s\u001b[0m 12ms/step - accuracy: 0.9961 - loss: 0.0130 - val_accuracy: 0.9689 - val_loss: 0.1296\n",
            "Epoch 13/20\n",
            "\u001b[1m336/336\u001b[0m \u001b[32m━━━━━━━━━━━━━━━━━━━━\u001b[0m\u001b[37m\u001b[0m \u001b[1m5s\u001b[0m 11ms/step - accuracy: 0.9947 - loss: 0.0173 - val_accuracy: 0.9688 - val_loss: 0.1450\n",
            "Epoch 14/20\n",
            "\u001b[1m336/336\u001b[0m \u001b[32m━━━━━━━━━━━━━━━━━━━━\u001b[0m\u001b[37m\u001b[0m \u001b[1m6s\u001b[0m 14ms/step - accuracy: 0.9930 - loss: 0.0229 - val_accuracy: 0.9706 - val_loss: 0.1322\n",
            "Epoch 15/20\n",
            "\u001b[1m336/336\u001b[0m \u001b[32m━━━━━━━━━━━━━━━━━━━━\u001b[0m\u001b[37m\u001b[0m \u001b[1m3s\u001b[0m 10ms/step - accuracy: 0.9951 - loss: 0.0144 - val_accuracy: 0.9712 - val_loss: 0.1302\n",
            "Epoch 16/20\n",
            "\u001b[1m336/336\u001b[0m \u001b[32m━━━━━━━━━━━━━━━━━━━━\u001b[0m\u001b[37m\u001b[0m \u001b[1m5s\u001b[0m 10ms/step - accuracy: 0.9959 - loss: 0.0146 - val_accuracy: 0.9761 - val_loss: 0.1200\n",
            "Epoch 17/20\n",
            "\u001b[1m336/336\u001b[0m \u001b[32m━━━━━━━━━━━━━━━━━━━━\u001b[0m\u001b[37m\u001b[0m \u001b[1m5s\u001b[0m 10ms/step - accuracy: 0.9964 - loss: 0.0123 - val_accuracy: 0.9764 - val_loss: 0.1082\n",
            "Epoch 18/20\n",
            "\u001b[1m336/336\u001b[0m \u001b[32m━━━━━━━━━━━━━━━━━━━━\u001b[0m\u001b[37m\u001b[0m \u001b[1m3s\u001b[0m 9ms/step - accuracy: 0.9964 - loss: 0.0119 - val_accuracy: 0.9743 - val_loss: 0.1284\n",
            "Epoch 19/20\n",
            "\u001b[1m336/336\u001b[0m \u001b[32m━━━━━━━━━━━━━━━━━━━━\u001b[0m\u001b[37m\u001b[0m \u001b[1m6s\u001b[0m 12ms/step - accuracy: 0.9948 - loss: 0.0164 - val_accuracy: 0.9717 - val_loss: 0.1368\n",
            "Epoch 20/20\n",
            "\u001b[1m336/336\u001b[0m \u001b[32m━━━━━━━━━━━━━━━━━━━━\u001b[0m\u001b[37m\u001b[0m \u001b[1m4s\u001b[0m 11ms/step - accuracy: 0.9969 - loss: 0.0096 - val_accuracy: 0.9770 - val_loss: 0.1193\n"
          ]
        }
      ],
      "metadata": {
        "_cell_guid": "f7ac3e43-bf76-488d-8ec6-31ec98228ee6",
        "_uuid": "986fc367bbd1fc9767c30a03324c4d18e3bfd0d5",
        "_execution_state": "busy",
        "trusted": false,
        "id": "iAkOqXdVSAYs",
        "colab": {
          "base_uri": "https://localhost:8080/"
        },
        "outputId": "6e09f3d3-ef4f-4e70-f561-9cbafbf2f5e5"
      },
      "cell_type": "code",
      "execution_count": 50,
      "source": [
        "history3 = model3.fit(X_train, y_train,\n",
        "                      batch_size = batch_size,\n",
        "                      epochs = training_epochs,\n",
        "                      validation_data=(X_cv, y_cv))"
      ]
    },
    {
      "outputs": [],
      "metadata": {
        "_cell_guid": "9054eb9b-e655-415c-93e7-3f0ca45d84ac",
        "_uuid": "608b71d5bd8dc23df6d916e7371887fd52dd24d8",
        "_execution_state": "busy",
        "trusted": false,
        "id": "8K1ZasS1SAYz"
      },
      "cell_type": "code",
      "execution_count": 51,
      "source": [
        "n_input = 784\n",
        "n_hidden_1 = 300\n",
        "n_hidden_2 = 100\n",
        "n_hidden_3 = 100\n",
        "n_hidden_4 = 200\n",
        "num_digits = 10"
      ]
    },
    {
      "outputs": [],
      "metadata": {
        "_cell_guid": "0541e860-b2f6-43cd-8d00-254e9daf775a",
        "_uuid": "d6335bd113992a8898679d1a5d09ed2eda3fe5af",
        "_execution_state": "busy",
        "trusted": false,
        "id": "p_l1x6NbSAY0"
      },
      "cell_type": "code",
      "execution_count": 52,
      "source": [
        "Inp = Input(shape=(784,))\n",
        "x = Dense(n_hidden_1, activation='relu', name = \"Hidden_Layer_1\")(Inp)\n",
        "x = Dropout(0.3)(x)\n",
        "x = Dense(n_hidden_2, activation='relu', name = \"Hidden_Layer_2\")(x)\n",
        "x = Dropout(0.3)(x)\n",
        "x = Dense(n_hidden_3, activation='relu', name = \"Hidden_Layer_3\")(x)\n",
        "x = Dropout(0.3)(x)\n",
        "x = Dense(n_hidden_4, activation='relu', name = \"Hidden_Layer_4\")(x)\n",
        "output = Dense(num_digits, activation='softmax', name = \"Output_Layer\")(x)"
      ]
    },
    {
      "outputs": [
        {
          "output_type": "display_data",
          "data": {
            "text/plain": [
              "\u001b[1mModel: \"functional_8\"\u001b[0m\n"
            ],
            "text/html": [
              "<pre style=\"white-space:pre;overflow-x:auto;line-height:normal;font-family:Menlo,'DejaVu Sans Mono',consolas,'Courier New',monospace\"><span style=\"font-weight: bold\">Model: \"functional_8\"</span>\n",
              "</pre>\n"
            ]
          },
          "metadata": {}
        },
        {
          "output_type": "display_data",
          "data": {
            "text/plain": [
              "┏━━━━━━━━━━━━━━━━━━━━━━━━━━━━━━━━━┳━━━━━━━━━━━━━━━━━━━━━━━━┳━━━━━━━━━━━━━━━┓\n",
              "┃\u001b[1m \u001b[0m\u001b[1mLayer (type)                   \u001b[0m\u001b[1m \u001b[0m┃\u001b[1m \u001b[0m\u001b[1mOutput Shape          \u001b[0m\u001b[1m \u001b[0m┃\u001b[1m \u001b[0m\u001b[1m      Param #\u001b[0m\u001b[1m \u001b[0m┃\n",
              "┡━━━━━━━━━━━━━━━━━━━━━━━━━━━━━━━━━╇━━━━━━━━━━━━━━━━━━━━━━━━╇━━━━━━━━━━━━━━━┩\n",
              "│ input_layer_9 (\u001b[38;5;33mInputLayer\u001b[0m)      │ (\u001b[38;5;45mNone\u001b[0m, \u001b[38;5;34m784\u001b[0m)            │             \u001b[38;5;34m0\u001b[0m │\n",
              "├─────────────────────────────────┼────────────────────────┼───────────────┤\n",
              "│ Hidden_Layer_1 (\u001b[38;5;33mDense\u001b[0m)          │ (\u001b[38;5;45mNone\u001b[0m, \u001b[38;5;34m300\u001b[0m)            │       \u001b[38;5;34m235,500\u001b[0m │\n",
              "├─────────────────────────────────┼────────────────────────┼───────────────┤\n",
              "│ dropout (\u001b[38;5;33mDropout\u001b[0m)               │ (\u001b[38;5;45mNone\u001b[0m, \u001b[38;5;34m300\u001b[0m)            │             \u001b[38;5;34m0\u001b[0m │\n",
              "├─────────────────────────────────┼────────────────────────┼───────────────┤\n",
              "│ Hidden_Layer_2 (\u001b[38;5;33mDense\u001b[0m)          │ (\u001b[38;5;45mNone\u001b[0m, \u001b[38;5;34m100\u001b[0m)            │        \u001b[38;5;34m30,100\u001b[0m │\n",
              "├─────────────────────────────────┼────────────────────────┼───────────────┤\n",
              "│ dropout_1 (\u001b[38;5;33mDropout\u001b[0m)             │ (\u001b[38;5;45mNone\u001b[0m, \u001b[38;5;34m100\u001b[0m)            │             \u001b[38;5;34m0\u001b[0m │\n",
              "├─────────────────────────────────┼────────────────────────┼───────────────┤\n",
              "│ Hidden_Layer_3 (\u001b[38;5;33mDense\u001b[0m)          │ (\u001b[38;5;45mNone\u001b[0m, \u001b[38;5;34m100\u001b[0m)            │        \u001b[38;5;34m10,100\u001b[0m │\n",
              "├─────────────────────────────────┼────────────────────────┼───────────────┤\n",
              "│ dropout_2 (\u001b[38;5;33mDropout\u001b[0m)             │ (\u001b[38;5;45mNone\u001b[0m, \u001b[38;5;34m100\u001b[0m)            │             \u001b[38;5;34m0\u001b[0m │\n",
              "├─────────────────────────────────┼────────────────────────┼───────────────┤\n",
              "│ Hidden_Layer_4 (\u001b[38;5;33mDense\u001b[0m)          │ (\u001b[38;5;45mNone\u001b[0m, \u001b[38;5;34m200\u001b[0m)            │        \u001b[38;5;34m20,200\u001b[0m │\n",
              "├─────────────────────────────────┼────────────────────────┼───────────────┤\n",
              "│ Output_Layer (\u001b[38;5;33mDense\u001b[0m)            │ (\u001b[38;5;45mNone\u001b[0m, \u001b[38;5;34m10\u001b[0m)             │         \u001b[38;5;34m2,010\u001b[0m │\n",
              "└─────────────────────────────────┴────────────────────────┴───────────────┘\n"
            ],
            "text/html": [
              "<pre style=\"white-space:pre;overflow-x:auto;line-height:normal;font-family:Menlo,'DejaVu Sans Mono',consolas,'Courier New',monospace\">┏━━━━━━━━━━━━━━━━━━━━━━━━━━━━━━━━━┳━━━━━━━━━━━━━━━━━━━━━━━━┳━━━━━━━━━━━━━━━┓\n",
              "┃<span style=\"font-weight: bold\"> Layer (type)                    </span>┃<span style=\"font-weight: bold\"> Output Shape           </span>┃<span style=\"font-weight: bold\">       Param # </span>┃\n",
              "┡━━━━━━━━━━━━━━━━━━━━━━━━━━━━━━━━━╇━━━━━━━━━━━━━━━━━━━━━━━━╇━━━━━━━━━━━━━━━┩\n",
              "│ input_layer_9 (<span style=\"color: #0087ff; text-decoration-color: #0087ff\">InputLayer</span>)      │ (<span style=\"color: #00d7ff; text-decoration-color: #00d7ff\">None</span>, <span style=\"color: #00af00; text-decoration-color: #00af00\">784</span>)            │             <span style=\"color: #00af00; text-decoration-color: #00af00\">0</span> │\n",
              "├─────────────────────────────────┼────────────────────────┼───────────────┤\n",
              "│ Hidden_Layer_1 (<span style=\"color: #0087ff; text-decoration-color: #0087ff\">Dense</span>)          │ (<span style=\"color: #00d7ff; text-decoration-color: #00d7ff\">None</span>, <span style=\"color: #00af00; text-decoration-color: #00af00\">300</span>)            │       <span style=\"color: #00af00; text-decoration-color: #00af00\">235,500</span> │\n",
              "├─────────────────────────────────┼────────────────────────┼───────────────┤\n",
              "│ dropout (<span style=\"color: #0087ff; text-decoration-color: #0087ff\">Dropout</span>)               │ (<span style=\"color: #00d7ff; text-decoration-color: #00d7ff\">None</span>, <span style=\"color: #00af00; text-decoration-color: #00af00\">300</span>)            │             <span style=\"color: #00af00; text-decoration-color: #00af00\">0</span> │\n",
              "├─────────────────────────────────┼────────────────────────┼───────────────┤\n",
              "│ Hidden_Layer_2 (<span style=\"color: #0087ff; text-decoration-color: #0087ff\">Dense</span>)          │ (<span style=\"color: #00d7ff; text-decoration-color: #00d7ff\">None</span>, <span style=\"color: #00af00; text-decoration-color: #00af00\">100</span>)            │        <span style=\"color: #00af00; text-decoration-color: #00af00\">30,100</span> │\n",
              "├─────────────────────────────────┼────────────────────────┼───────────────┤\n",
              "│ dropout_1 (<span style=\"color: #0087ff; text-decoration-color: #0087ff\">Dropout</span>)             │ (<span style=\"color: #00d7ff; text-decoration-color: #00d7ff\">None</span>, <span style=\"color: #00af00; text-decoration-color: #00af00\">100</span>)            │             <span style=\"color: #00af00; text-decoration-color: #00af00\">0</span> │\n",
              "├─────────────────────────────────┼────────────────────────┼───────────────┤\n",
              "│ Hidden_Layer_3 (<span style=\"color: #0087ff; text-decoration-color: #0087ff\">Dense</span>)          │ (<span style=\"color: #00d7ff; text-decoration-color: #00d7ff\">None</span>, <span style=\"color: #00af00; text-decoration-color: #00af00\">100</span>)            │        <span style=\"color: #00af00; text-decoration-color: #00af00\">10,100</span> │\n",
              "├─────────────────────────────────┼────────────────────────┼───────────────┤\n",
              "│ dropout_2 (<span style=\"color: #0087ff; text-decoration-color: #0087ff\">Dropout</span>)             │ (<span style=\"color: #00d7ff; text-decoration-color: #00d7ff\">None</span>, <span style=\"color: #00af00; text-decoration-color: #00af00\">100</span>)            │             <span style=\"color: #00af00; text-decoration-color: #00af00\">0</span> │\n",
              "├─────────────────────────────────┼────────────────────────┼───────────────┤\n",
              "│ Hidden_Layer_4 (<span style=\"color: #0087ff; text-decoration-color: #0087ff\">Dense</span>)          │ (<span style=\"color: #00d7ff; text-decoration-color: #00d7ff\">None</span>, <span style=\"color: #00af00; text-decoration-color: #00af00\">200</span>)            │        <span style=\"color: #00af00; text-decoration-color: #00af00\">20,200</span> │\n",
              "├─────────────────────────────────┼────────────────────────┼───────────────┤\n",
              "│ Output_Layer (<span style=\"color: #0087ff; text-decoration-color: #0087ff\">Dense</span>)            │ (<span style=\"color: #00d7ff; text-decoration-color: #00d7ff\">None</span>, <span style=\"color: #00af00; text-decoration-color: #00af00\">10</span>)             │         <span style=\"color: #00af00; text-decoration-color: #00af00\">2,010</span> │\n",
              "└─────────────────────────────────┴────────────────────────┴───────────────┘\n",
              "</pre>\n"
            ]
          },
          "metadata": {}
        },
        {
          "output_type": "display_data",
          "data": {
            "text/plain": [
              "\u001b[1m Total params: \u001b[0m\u001b[38;5;34m297,910\u001b[0m (1.14 MB)\n"
            ],
            "text/html": [
              "<pre style=\"white-space:pre;overflow-x:auto;line-height:normal;font-family:Menlo,'DejaVu Sans Mono',consolas,'Courier New',monospace\"><span style=\"font-weight: bold\"> Total params: </span><span style=\"color: #00af00; text-decoration-color: #00af00\">297,910</span> (1.14 MB)\n",
              "</pre>\n"
            ]
          },
          "metadata": {}
        },
        {
          "output_type": "display_data",
          "data": {
            "text/plain": [
              "\u001b[1m Trainable params: \u001b[0m\u001b[38;5;34m297,910\u001b[0m (1.14 MB)\n"
            ],
            "text/html": [
              "<pre style=\"white-space:pre;overflow-x:auto;line-height:normal;font-family:Menlo,'DejaVu Sans Mono',consolas,'Courier New',monospace\"><span style=\"font-weight: bold\"> Trainable params: </span><span style=\"color: #00af00; text-decoration-color: #00af00\">297,910</span> (1.14 MB)\n",
              "</pre>\n"
            ]
          },
          "metadata": {}
        },
        {
          "output_type": "display_data",
          "data": {
            "text/plain": [
              "\u001b[1m Non-trainable params: \u001b[0m\u001b[38;5;34m0\u001b[0m (0.00 B)\n"
            ],
            "text/html": [
              "<pre style=\"white-space:pre;overflow-x:auto;line-height:normal;font-family:Menlo,'DejaVu Sans Mono',consolas,'Courier New',monospace\"><span style=\"font-weight: bold\"> Non-trainable params: </span><span style=\"color: #00af00; text-decoration-color: #00af00\">0</span> (0.00 B)\n",
              "</pre>\n"
            ]
          },
          "metadata": {}
        }
      ],
      "metadata": {
        "_cell_guid": "95f4299a-0e1c-4dca-b7d5-839e7a5e8fc8",
        "_uuid": "08e56562d89bcd25756bc5bbbb4f33ceb87f106e",
        "_execution_state": "busy",
        "trusted": false,
        "id": "zcIKAGOHSAY0",
        "colab": {
          "base_uri": "https://localhost:8080/",
          "height": 442
        },
        "outputId": "7ce99357-74e9-432d-b408-958e4690cdf9"
      },
      "cell_type": "code",
      "execution_count": 53,
      "source": [
        "model4 = Model(Inp, output)\n",
        "model4.summary()"
      ]
    },
    {
      "outputs": [],
      "metadata": {
        "_cell_guid": "ed1c4a9d-730e-4e4d-8a25-4448d877d5b6",
        "_uuid": "2328fa07b0f4c63448b0c30b7ae450df2b0fe3be",
        "_execution_state": "busy",
        "trusted": false,
        "id": "fyeoE7oKSAY1"
      },
      "cell_type": "code",
      "execution_count": 54,
      "source": [
        "model4.compile(loss='categorical_crossentropy',\n",
        "              optimizer='adam',\n",
        "              metrics=['accuracy'])"
      ]
    },
    {
      "outputs": [
        {
          "output_type": "stream",
          "name": "stdout",
          "text": [
            "Epoch 1/20\n",
            "\u001b[1m336/336\u001b[0m \u001b[32m━━━━━━━━━━━━━━━━━━━━\u001b[0m\u001b[37m\u001b[0m \u001b[1m7s\u001b[0m 14ms/step - accuracy: 0.6668 - loss: 0.9960 - val_accuracy: 0.9470 - val_loss: 0.1850\n",
            "Epoch 2/20\n",
            "\u001b[1m336/336\u001b[0m \u001b[32m━━━━━━━━━━━━━━━━━━━━\u001b[0m\u001b[37m\u001b[0m \u001b[1m4s\u001b[0m 11ms/step - accuracy: 0.9258 - loss: 0.2509 - val_accuracy: 0.9580 - val_loss: 0.1450\n",
            "Epoch 3/20\n",
            "\u001b[1m336/336\u001b[0m \u001b[32m━━━━━━━━━━━━━━━━━━━━\u001b[0m\u001b[37m\u001b[0m \u001b[1m5s\u001b[0m 11ms/step - accuracy: 0.9478 - loss: 0.1808 - val_accuracy: 0.9662 - val_loss: 0.1133\n",
            "Epoch 4/20\n",
            "\u001b[1m336/336\u001b[0m \u001b[32m━━━━━━━━━━━━━━━━━━━━\u001b[0m\u001b[37m\u001b[0m \u001b[1m5s\u001b[0m 11ms/step - accuracy: 0.9596 - loss: 0.1371 - val_accuracy: 0.9704 - val_loss: 0.1136\n",
            "Epoch 5/20\n",
            "\u001b[1m336/336\u001b[0m \u001b[32m━━━━━━━━━━━━━━━━━━━━\u001b[0m\u001b[37m\u001b[0m \u001b[1m4s\u001b[0m 11ms/step - accuracy: 0.9637 - loss: 0.1277 - val_accuracy: 0.9702 - val_loss: 0.1030\n",
            "Epoch 6/20\n",
            "\u001b[1m336/336\u001b[0m \u001b[32m━━━━━━━━━━━━━━━━━━━━\u001b[0m\u001b[37m\u001b[0m \u001b[1m6s\u001b[0m 14ms/step - accuracy: 0.9680 - loss: 0.1108 - val_accuracy: 0.9711 - val_loss: 0.1026\n",
            "Epoch 7/20\n",
            "\u001b[1m336/336\u001b[0m \u001b[32m━━━━━━━━━━━━━━━━━━━━\u001b[0m\u001b[37m\u001b[0m \u001b[1m4s\u001b[0m 11ms/step - accuracy: 0.9718 - loss: 0.0962 - val_accuracy: 0.9730 - val_loss: 0.0989\n",
            "Epoch 8/20\n",
            "\u001b[1m336/336\u001b[0m \u001b[32m━━━━━━━━━━━━━━━━━━━━\u001b[0m\u001b[37m\u001b[0m \u001b[1m3s\u001b[0m 10ms/step - accuracy: 0.9736 - loss: 0.0891 - val_accuracy: 0.9757 - val_loss: 0.0920\n",
            "Epoch 9/20\n",
            "\u001b[1m336/336\u001b[0m \u001b[32m━━━━━━━━━━━━━━━━━━━━\u001b[0m\u001b[37m\u001b[0m \u001b[1m6s\u001b[0m 13ms/step - accuracy: 0.9763 - loss: 0.0782 - val_accuracy: 0.9773 - val_loss: 0.0933\n",
            "Epoch 10/20\n",
            "\u001b[1m336/336\u001b[0m \u001b[32m━━━━━━━━━━━━━━━━━━━━\u001b[0m\u001b[37m\u001b[0m \u001b[1m4s\u001b[0m 11ms/step - accuracy: 0.9770 - loss: 0.0744 - val_accuracy: 0.9769 - val_loss: 0.0894\n",
            "Epoch 11/20\n",
            "\u001b[1m336/336\u001b[0m \u001b[32m━━━━━━━━━━━━━━━━━━━━\u001b[0m\u001b[37m\u001b[0m \u001b[1m5s\u001b[0m 12ms/step - accuracy: 0.9795 - loss: 0.0680 - val_accuracy: 0.9770 - val_loss: 0.0910\n",
            "Epoch 12/20\n",
            "\u001b[1m336/336\u001b[0m \u001b[32m━━━━━━━━━━━━━━━━━━━━\u001b[0m\u001b[37m\u001b[0m \u001b[1m5s\u001b[0m 10ms/step - accuracy: 0.9821 - loss: 0.0593 - val_accuracy: 0.9785 - val_loss: 0.0832\n",
            "Epoch 13/20\n",
            "\u001b[1m336/336\u001b[0m \u001b[32m━━━━━━━━━━━━━━━━━━━━\u001b[0m\u001b[37m\u001b[0m \u001b[1m3s\u001b[0m 10ms/step - accuracy: 0.9822 - loss: 0.0577 - val_accuracy: 0.9783 - val_loss: 0.0848\n",
            "Epoch 14/20\n",
            "\u001b[1m336/336\u001b[0m \u001b[32m━━━━━━━━━━━━━━━━━━━━\u001b[0m\u001b[37m\u001b[0m \u001b[1m4s\u001b[0m 11ms/step - accuracy: 0.9844 - loss: 0.0530 - val_accuracy: 0.9771 - val_loss: 0.0881\n",
            "Epoch 15/20\n",
            "\u001b[1m336/336\u001b[0m \u001b[32m━━━━━━━━━━━━━━━━━━━━\u001b[0m\u001b[37m\u001b[0m \u001b[1m4s\u001b[0m 12ms/step - accuracy: 0.9838 - loss: 0.0539 - val_accuracy: 0.9765 - val_loss: 0.0888\n",
            "Epoch 16/20\n",
            "\u001b[1m336/336\u001b[0m \u001b[32m━━━━━━━━━━━━━━━━━━━━\u001b[0m\u001b[37m\u001b[0m \u001b[1m4s\u001b[0m 10ms/step - accuracy: 0.9846 - loss: 0.0484 - val_accuracy: 0.9769 - val_loss: 0.0975\n",
            "Epoch 17/20\n",
            "\u001b[1m336/336\u001b[0m \u001b[32m━━━━━━━━━━━━━━━━━━━━\u001b[0m\u001b[37m\u001b[0m \u001b[1m4s\u001b[0m 11ms/step - accuracy: 0.9831 - loss: 0.0496 - val_accuracy: 0.9783 - val_loss: 0.0839\n",
            "Epoch 18/20\n",
            "\u001b[1m336/336\u001b[0m \u001b[32m━━━━━━━━━━━━━━━━━━━━\u001b[0m\u001b[37m\u001b[0m \u001b[1m5s\u001b[0m 14ms/step - accuracy: 0.9864 - loss: 0.0449 - val_accuracy: 0.9796 - val_loss: 0.0848\n",
            "Epoch 19/20\n",
            "\u001b[1m336/336\u001b[0m \u001b[32m━━━━━━━━━━━━━━━━━━━━\u001b[0m\u001b[37m\u001b[0m \u001b[1m4s\u001b[0m 11ms/step - accuracy: 0.9859 - loss: 0.0447 - val_accuracy: 0.9771 - val_loss: 0.0908\n",
            "Epoch 20/20\n",
            "\u001b[1m336/336\u001b[0m \u001b[32m━━━━━━━━━━━━━━━━━━━━\u001b[0m\u001b[37m\u001b[0m \u001b[1m3s\u001b[0m 10ms/step - accuracy: 0.9864 - loss: 0.0431 - val_accuracy: 0.9785 - val_loss: 0.0978\n"
          ]
        }
      ],
      "metadata": {
        "_cell_guid": "8543232e-da2b-46ce-9a5e-06e6283b854a",
        "_uuid": "986af85bbaf1b212b00cf28dc9204339b717ee48",
        "_execution_state": "busy",
        "trusted": false,
        "id": "Q56lAgEgSAY1",
        "colab": {
          "base_uri": "https://localhost:8080/"
        },
        "outputId": "9f393975-28cf-45a0-a715-b91883371d0f"
      },
      "cell_type": "code",
      "execution_count": 55,
      "source": [
        "history = model4.fit(X_train, y_train,\n",
        "                    batch_size = batch_size,\n",
        "                    epochs = training_epochs,\n",
        "                    validation_data=(X_cv, y_cv))"
      ]
    },
    {
      "outputs": [
        {
          "output_type": "stream",
          "name": "stdout",
          "text": [
            "\u001b[1m140/140\u001b[0m \u001b[32m━━━━━━━━━━━━━━━━━━━━\u001b[0m\u001b[37m\u001b[0m \u001b[1m1s\u001b[0m 4ms/step\n"
          ]
        },
        {
          "output_type": "execute_result",
          "data": {
            "text/plain": [
              "   ImageId  Label\n",
              "0        1      2\n",
              "1        2      0\n",
              "2        3      9\n",
              "3        4      9\n",
              "4        5      3"
            ],
            "text/html": [
              "\n",
              "  <div id=\"df-8abed220-739e-43f4-9b40-8b719665042b\" class=\"colab-df-container\">\n",
              "    <div>\n",
              "<style scoped>\n",
              "    .dataframe tbody tr th:only-of-type {\n",
              "        vertical-align: middle;\n",
              "    }\n",
              "\n",
              "    .dataframe tbody tr th {\n",
              "        vertical-align: top;\n",
              "    }\n",
              "\n",
              "    .dataframe thead th {\n",
              "        text-align: right;\n",
              "    }\n",
              "</style>\n",
              "<table border=\"1\" class=\"dataframe\">\n",
              "  <thead>\n",
              "    <tr style=\"text-align: right;\">\n",
              "      <th></th>\n",
              "      <th>ImageId</th>\n",
              "      <th>Label</th>\n",
              "    </tr>\n",
              "  </thead>\n",
              "  <tbody>\n",
              "    <tr>\n",
              "      <th>0</th>\n",
              "      <td>1</td>\n",
              "      <td>2</td>\n",
              "    </tr>\n",
              "    <tr>\n",
              "      <th>1</th>\n",
              "      <td>2</td>\n",
              "      <td>0</td>\n",
              "    </tr>\n",
              "    <tr>\n",
              "      <th>2</th>\n",
              "      <td>3</td>\n",
              "      <td>9</td>\n",
              "    </tr>\n",
              "    <tr>\n",
              "      <th>3</th>\n",
              "      <td>4</td>\n",
              "      <td>9</td>\n",
              "    </tr>\n",
              "    <tr>\n",
              "      <th>4</th>\n",
              "      <td>5</td>\n",
              "      <td>3</td>\n",
              "    </tr>\n",
              "  </tbody>\n",
              "</table>\n",
              "</div>\n",
              "    <div class=\"colab-df-buttons\">\n",
              "\n",
              "  <div class=\"colab-df-container\">\n",
              "    <button class=\"colab-df-convert\" onclick=\"convertToInteractive('df-8abed220-739e-43f4-9b40-8b719665042b')\"\n",
              "            title=\"Convert this dataframe to an interactive table.\"\n",
              "            style=\"display:none;\">\n",
              "\n",
              "  <svg xmlns=\"http://www.w3.org/2000/svg\" height=\"24px\" viewBox=\"0 -960 960 960\">\n",
              "    <path d=\"M120-120v-720h720v720H120Zm60-500h600v-160H180v160Zm220 220h160v-160H400v160Zm0 220h160v-160H400v160ZM180-400h160v-160H180v160Zm440 0h160v-160H620v160ZM180-180h160v-160H180v160Zm440 0h160v-160H620v160Z\"/>\n",
              "  </svg>\n",
              "    </button>\n",
              "\n",
              "  <style>\n",
              "    .colab-df-container {\n",
              "      display:flex;\n",
              "      gap: 12px;\n",
              "    }\n",
              "\n",
              "    .colab-df-convert {\n",
              "      background-color: #E8F0FE;\n",
              "      border: none;\n",
              "      border-radius: 50%;\n",
              "      cursor: pointer;\n",
              "      display: none;\n",
              "      fill: #1967D2;\n",
              "      height: 32px;\n",
              "      padding: 0 0 0 0;\n",
              "      width: 32px;\n",
              "    }\n",
              "\n",
              "    .colab-df-convert:hover {\n",
              "      background-color: #E2EBFA;\n",
              "      box-shadow: 0px 1px 2px rgba(60, 64, 67, 0.3), 0px 1px 3px 1px rgba(60, 64, 67, 0.15);\n",
              "      fill: #174EA6;\n",
              "    }\n",
              "\n",
              "    .colab-df-buttons div {\n",
              "      margin-bottom: 4px;\n",
              "    }\n",
              "\n",
              "    [theme=dark] .colab-df-convert {\n",
              "      background-color: #3B4455;\n",
              "      fill: #D2E3FC;\n",
              "    }\n",
              "\n",
              "    [theme=dark] .colab-df-convert:hover {\n",
              "      background-color: #434B5C;\n",
              "      box-shadow: 0px 1px 3px 1px rgba(0, 0, 0, 0.15);\n",
              "      filter: drop-shadow(0px 1px 2px rgba(0, 0, 0, 0.3));\n",
              "      fill: #FFFFFF;\n",
              "    }\n",
              "  </style>\n",
              "\n",
              "    <script>\n",
              "      const buttonEl =\n",
              "        document.querySelector('#df-8abed220-739e-43f4-9b40-8b719665042b button.colab-df-convert');\n",
              "      buttonEl.style.display =\n",
              "        google.colab.kernel.accessAllowed ? 'block' : 'none';\n",
              "\n",
              "      async function convertToInteractive(key) {\n",
              "        const element = document.querySelector('#df-8abed220-739e-43f4-9b40-8b719665042b');\n",
              "        const dataTable =\n",
              "          await google.colab.kernel.invokeFunction('convertToInteractive',\n",
              "                                                    [key], {});\n",
              "        if (!dataTable) return;\n",
              "\n",
              "        const docLinkHtml = 'Like what you see? Visit the ' +\n",
              "          '<a target=\"_blank\" href=https://colab.research.google.com/notebooks/data_table.ipynb>data table notebook</a>'\n",
              "          + ' to learn more about interactive tables.';\n",
              "        element.innerHTML = '';\n",
              "        dataTable['output_type'] = 'display_data';\n",
              "        await google.colab.output.renderOutput(dataTable, element);\n",
              "        const docLink = document.createElement('div');\n",
              "        docLink.innerHTML = docLinkHtml;\n",
              "        element.appendChild(docLink);\n",
              "      }\n",
              "    </script>\n",
              "  </div>\n",
              "\n",
              "\n",
              "    <div id=\"df-4c3dcfc3-4291-4d91-b5f7-236f45fd7eed\">\n",
              "      <button class=\"colab-df-quickchart\" onclick=\"quickchart('df-4c3dcfc3-4291-4d91-b5f7-236f45fd7eed')\"\n",
              "                title=\"Suggest charts\"\n",
              "                style=\"display:none;\">\n",
              "\n",
              "<svg xmlns=\"http://www.w3.org/2000/svg\" height=\"24px\"viewBox=\"0 0 24 24\"\n",
              "     width=\"24px\">\n",
              "    <g>\n",
              "        <path d=\"M19 3H5c-1.1 0-2 .9-2 2v14c0 1.1.9 2 2 2h14c1.1 0 2-.9 2-2V5c0-1.1-.9-2-2-2zM9 17H7v-7h2v7zm4 0h-2V7h2v10zm4 0h-2v-4h2v4z\"/>\n",
              "    </g>\n",
              "</svg>\n",
              "      </button>\n",
              "\n",
              "<style>\n",
              "  .colab-df-quickchart {\n",
              "      --bg-color: #E8F0FE;\n",
              "      --fill-color: #1967D2;\n",
              "      --hover-bg-color: #E2EBFA;\n",
              "      --hover-fill-color: #174EA6;\n",
              "      --disabled-fill-color: #AAA;\n",
              "      --disabled-bg-color: #DDD;\n",
              "  }\n",
              "\n",
              "  [theme=dark] .colab-df-quickchart {\n",
              "      --bg-color: #3B4455;\n",
              "      --fill-color: #D2E3FC;\n",
              "      --hover-bg-color: #434B5C;\n",
              "      --hover-fill-color: #FFFFFF;\n",
              "      --disabled-bg-color: #3B4455;\n",
              "      --disabled-fill-color: #666;\n",
              "  }\n",
              "\n",
              "  .colab-df-quickchart {\n",
              "    background-color: var(--bg-color);\n",
              "    border: none;\n",
              "    border-radius: 50%;\n",
              "    cursor: pointer;\n",
              "    display: none;\n",
              "    fill: var(--fill-color);\n",
              "    height: 32px;\n",
              "    padding: 0;\n",
              "    width: 32px;\n",
              "  }\n",
              "\n",
              "  .colab-df-quickchart:hover {\n",
              "    background-color: var(--hover-bg-color);\n",
              "    box-shadow: 0 1px 2px rgba(60, 64, 67, 0.3), 0 1px 3px 1px rgba(60, 64, 67, 0.15);\n",
              "    fill: var(--button-hover-fill-color);\n",
              "  }\n",
              "\n",
              "  .colab-df-quickchart-complete:disabled,\n",
              "  .colab-df-quickchart-complete:disabled:hover {\n",
              "    background-color: var(--disabled-bg-color);\n",
              "    fill: var(--disabled-fill-color);\n",
              "    box-shadow: none;\n",
              "  }\n",
              "\n",
              "  .colab-df-spinner {\n",
              "    border: 2px solid var(--fill-color);\n",
              "    border-color: transparent;\n",
              "    border-bottom-color: var(--fill-color);\n",
              "    animation:\n",
              "      spin 1s steps(1) infinite;\n",
              "  }\n",
              "\n",
              "  @keyframes spin {\n",
              "    0% {\n",
              "      border-color: transparent;\n",
              "      border-bottom-color: var(--fill-color);\n",
              "      border-left-color: var(--fill-color);\n",
              "    }\n",
              "    20% {\n",
              "      border-color: transparent;\n",
              "      border-left-color: var(--fill-color);\n",
              "      border-top-color: var(--fill-color);\n",
              "    }\n",
              "    30% {\n",
              "      border-color: transparent;\n",
              "      border-left-color: var(--fill-color);\n",
              "      border-top-color: var(--fill-color);\n",
              "      border-right-color: var(--fill-color);\n",
              "    }\n",
              "    40% {\n",
              "      border-color: transparent;\n",
              "      border-right-color: var(--fill-color);\n",
              "      border-top-color: var(--fill-color);\n",
              "    }\n",
              "    60% {\n",
              "      border-color: transparent;\n",
              "      border-right-color: var(--fill-color);\n",
              "    }\n",
              "    80% {\n",
              "      border-color: transparent;\n",
              "      border-right-color: var(--fill-color);\n",
              "      border-bottom-color: var(--fill-color);\n",
              "    }\n",
              "    90% {\n",
              "      border-color: transparent;\n",
              "      border-bottom-color: var(--fill-color);\n",
              "    }\n",
              "  }\n",
              "</style>\n",
              "\n",
              "      <script>\n",
              "        async function quickchart(key) {\n",
              "          const quickchartButtonEl =\n",
              "            document.querySelector('#' + key + ' button');\n",
              "          quickchartButtonEl.disabled = true;  // To prevent multiple clicks.\n",
              "          quickchartButtonEl.classList.add('colab-df-spinner');\n",
              "          try {\n",
              "            const charts = await google.colab.kernel.invokeFunction(\n",
              "                'suggestCharts', [key], {});\n",
              "          } catch (error) {\n",
              "            console.error('Error during call to suggestCharts:', error);\n",
              "          }\n",
              "          quickchartButtonEl.classList.remove('colab-df-spinner');\n",
              "          quickchartButtonEl.classList.add('colab-df-quickchart-complete');\n",
              "        }\n",
              "        (() => {\n",
              "          let quickchartButtonEl =\n",
              "            document.querySelector('#df-4c3dcfc3-4291-4d91-b5f7-236f45fd7eed button');\n",
              "          quickchartButtonEl.style.display =\n",
              "            google.colab.kernel.accessAllowed ? 'block' : 'none';\n",
              "        })();\n",
              "      </script>\n",
              "    </div>\n",
              "\n",
              "    </div>\n",
              "  </div>\n"
            ],
            "application/vnd.google.colaboratory.intrinsic+json": {
              "type": "dataframe",
              "variable_name": "test_pred",
              "summary": "{\n  \"name\": \"test_pred\",\n  \"rows\": 28000,\n  \"fields\": [\n    {\n      \"column\": \"ImageId\",\n      \"properties\": {\n        \"dtype\": \"number\",\n        \"std\": 8083,\n        \"min\": 1,\n        \"max\": 28000,\n        \"num_unique_values\": 28000,\n        \"samples\": [\n          18407,\n          5035,\n          18326\n        ],\n        \"semantic_type\": \"\",\n        \"description\": \"\"\n      }\n    },\n    {\n      \"column\": \"Label\",\n      \"properties\": {\n        \"dtype\": \"number\",\n        \"std\": 2,\n        \"min\": 0,\n        \"max\": 9,\n        \"num_unique_values\": 10,\n        \"samples\": [\n          6,\n          0,\n          7\n        ],\n        \"semantic_type\": \"\",\n        \"description\": \"\"\n      }\n    }\n  ]\n}"
            }
          },
          "metadata": {},
          "execution_count": 56
        }
      ],
      "metadata": {
        "_cell_guid": "d07359be-0cb3-4e0b-9d3e-d8953f67211d",
        "_uuid": "8ae888d3b351dca6417ed4e3830688f1b75701ec",
        "_execution_state": "busy",
        "trusted": false,
        "id": "5iNLY22vSAY2",
        "colab": {
          "base_uri": "https://localhost:8080/",
          "height": 224
        },
        "outputId": "bec4199c-d332-405a-cf93-e1cfcb363157"
      },
      "cell_type": "code",
      "execution_count": 56,
      "source": [
        "test_pred = pd.DataFrame(model4.predict(X_test, batch_size=200))\n",
        "test_pred = pd.DataFrame(test_pred.idxmax(axis = 1))\n",
        "test_pred.index.name = 'ImageId'\n",
        "test_pred = test_pred.rename(columns = {0: 'Label'}).reset_index()\n",
        "test_pred['ImageId'] = test_pred['ImageId'] + 1\n",
        "\n",
        "test_pred.head()"
      ]
    },
    {
      "outputs": [],
      "metadata": {
        "_cell_guid": "2a132e08-be9b-4efa-89bc-6fc9952b6fde",
        "_uuid": "02492c073118b428bb2c4937840e12c35f1a0fd4",
        "_execution_state": "busy",
        "trusted": false,
        "id": "n3r7F1DTSAY3"
      },
      "cell_type": "code",
      "execution_count": 57,
      "source": [
        "test_pred.to_csv('mnist_submission.csv', index = False)"
      ]
    },
    {
      "cell_type": "code",
      "source": [
        "# Save the model using Keras's save function\n",
        "model.save(\"my_keras_model.h5\")\n",
        "\n",
        "from google.colab import files\n",
        "files.download(\"my_keras_model.h5\")"
      ],
      "metadata": {
        "colab": {
          "base_uri": "https://localhost:8080/",
          "height": 54
        },
        "id": "iPEDccOKXTYK",
        "outputId": "3d88f11f-0514-4426-c34f-9d72d4a809e8"
      },
      "execution_count": 63,
      "outputs": [
        {
          "output_type": "stream",
          "name": "stderr",
          "text": [
            "WARNING:absl:You are saving your model as an HDF5 file via `model.save()` or `keras.saving.save_model(model)`. This file format is considered legacy. We recommend using instead the native Keras format, e.g. `model.save('my_model.keras')` or `keras.saving.save_model(model, 'my_model.keras')`. \n"
          ]
        },
        {
          "output_type": "display_data",
          "data": {
            "text/plain": [
              "<IPython.core.display.Javascript object>"
            ],
            "application/javascript": [
              "\n",
              "    async function download(id, filename, size) {\n",
              "      if (!google.colab.kernel.accessAllowed) {\n",
              "        return;\n",
              "      }\n",
              "      const div = document.createElement('div');\n",
              "      const label = document.createElement('label');\n",
              "      label.textContent = `Downloading \"${filename}\": `;\n",
              "      div.appendChild(label);\n",
              "      const progress = document.createElement('progress');\n",
              "      progress.max = size;\n",
              "      div.appendChild(progress);\n",
              "      document.body.appendChild(div);\n",
              "\n",
              "      const buffers = [];\n",
              "      let downloaded = 0;\n",
              "\n",
              "      const channel = await google.colab.kernel.comms.open(id);\n",
              "      // Send a message to notify the kernel that we're ready.\n",
              "      channel.send({})\n",
              "\n",
              "      for await (const message of channel.messages) {\n",
              "        // Send a message to notify the kernel that we're ready.\n",
              "        channel.send({})\n",
              "        if (message.buffers) {\n",
              "          for (const buffer of message.buffers) {\n",
              "            buffers.push(buffer);\n",
              "            downloaded += buffer.byteLength;\n",
              "            progress.value = downloaded;\n",
              "          }\n",
              "        }\n",
              "      }\n",
              "      const blob = new Blob(buffers, {type: 'application/binary'});\n",
              "      const a = document.createElement('a');\n",
              "      a.href = window.URL.createObjectURL(blob);\n",
              "      a.download = filename;\n",
              "      div.appendChild(a);\n",
              "      a.click();\n",
              "      div.remove();\n",
              "    }\n",
              "  "
            ]
          },
          "metadata": {}
        },
        {
          "output_type": "display_data",
          "data": {
            "text/plain": [
              "<IPython.core.display.Javascript object>"
            ],
            "application/javascript": [
              "download(\"download_43ba9efc-b076-4d7e-998f-81c44c508c3c\", \"my_keras_model.h5\", 1222248)"
            ]
          },
          "metadata": {}
        }
      ]
    }
  ]
}